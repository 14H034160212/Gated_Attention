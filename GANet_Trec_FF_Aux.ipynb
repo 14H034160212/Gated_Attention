{
  "nbformat": 4,
  "nbformat_minor": 0,
  "metadata": {
    "colab": {
      "name": "GANet_Trec_FF_Aux.ipynb",
      "provenance": [],
      "collapsed_sections": [],
      "include_colab_link": true
    },
    "kernelspec": {
      "display_name": "Python 3",
      "language": "python",
      "name": "python3"
    },
    "language_info": {
      "codemirror_mode": {
        "name": "ipython",
        "version": 3
      },
      "file_extension": ".py",
      "mimetype": "text/x-python",
      "name": "python",
      "nbconvert_exporter": "python",
      "pygments_lexer": "ipython3",
      "version": "3.7.6"
    }
  },
  "cells": [
    {
      "cell_type": "markdown",
      "metadata": {
        "id": "view-in-github",
        "colab_type": "text"
      },
      "source": [
        "<a href=\"https://colab.research.google.com/github/twisha96/Gated_Attention/blob/master/GANet_Trec_FF_Aux.ipynb\" target=\"_parent\"><img src=\"https://colab.research.google.com/assets/colab-badge.svg\" alt=\"Open In Colab\"/></a>"
      ]
    },
    {
      "cell_type": "code",
      "metadata": {
        "colab_type": "code",
        "id": "D0T3nxESJstz",
        "outputId": "6892dbd9-24b3-4a0c-93f7-6d82b4cb3fcb",
        "scrolled": true,
        "colab": {
          "base_uri": "https://localhost:8080/",
          "height": 202
        }
      },
      "source": [
        "!pip3 install torchtext==0.4"
      ],
      "execution_count": 1,
      "outputs": [
        {
          "output_type": "stream",
          "text": [
            "Requirement already satisfied: torchtext==0.4 in /usr/local/lib/python3.6/dist-packages (0.4.0)\n",
            "Requirement already satisfied: requests in /usr/local/lib/python3.6/dist-packages (from torchtext==0.4) (2.21.0)\n",
            "Requirement already satisfied: six in /usr/local/lib/python3.6/dist-packages (from torchtext==0.4) (1.12.0)\n",
            "Requirement already satisfied: torch in /usr/local/lib/python3.6/dist-packages (from torchtext==0.4) (1.5.0+cu101)\n",
            "Requirement already satisfied: tqdm in /usr/local/lib/python3.6/dist-packages (from torchtext==0.4) (4.38.0)\n",
            "Requirement already satisfied: numpy in /usr/local/lib/python3.6/dist-packages (from torchtext==0.4) (1.18.3)\n",
            "Requirement already satisfied: idna<2.9,>=2.5 in /usr/local/lib/python3.6/dist-packages (from requests->torchtext==0.4) (2.8)\n",
            "Requirement already satisfied: urllib3<1.25,>=1.21.1 in /usr/local/lib/python3.6/dist-packages (from requests->torchtext==0.4) (1.24.3)\n",
            "Requirement already satisfied: certifi>=2017.4.17 in /usr/local/lib/python3.6/dist-packages (from requests->torchtext==0.4) (2020.4.5.1)\n",
            "Requirement already satisfied: chardet<3.1.0,>=3.0.2 in /usr/local/lib/python3.6/dist-packages (from requests->torchtext==0.4) (3.0.4)\n",
            "Requirement already satisfied: future in /usr/local/lib/python3.6/dist-packages (from torch->torchtext==0.4) (0.16.0)\n"
          ],
          "name": "stdout"
        }
      ]
    },
    {
      "cell_type": "code",
      "metadata": {
        "colab_type": "code",
        "id": "a9sHZi8rIXBC",
        "colab": {}
      },
      "source": [
        "import math\n",
        "import numpy as np\n",
        "import pandas as pd\n",
        "import pdb\n",
        "\n",
        "import torch\n",
        "import torch.nn.functional as F\n",
        "import torch.distributions\n",
        "import torch.optim as optim\n",
        "from torch import nn \n",
        "from torch.autograd import Variable\n",
        "\n",
        "import torchtext\n",
        "from torchtext import data\n",
        "from torchtext import datasets\n",
        "from torchtext.vocab import Vectors, GloVe\n",
        "\n",
        "# from models.LSTM import LSTMClassifier"
      ],
      "execution_count": 0,
      "outputs": []
    },
    {
      "cell_type": "code",
      "metadata": {
        "colab_type": "code",
        "id": "6CtSKjSRaQdd",
        "colab": {}
      },
      "source": [
        "# model.py\n",
        "\n",
        "class GANet(torch.nn.Module):\n",
        "    def __init__(self, batch_size, num_classes, mlp_out_size, vocab_size, embedding_length, weights, aux_hidden_size = 100, backbone_hidden_size = 100, tau = 1, biDirectional_aux = False, biDirectional_backbone = False):\n",
        "        super(GANet, self).__init__() \n",
        "        \"\"\"\n",
        "        Arguments\n",
        "        ---------\n",
        "        batch_size : Size of the batch which is same as the batch_size of the data returned by the TorchText BucketIterator\n",
        "        output_size : 6 = (For TREC dataset)\n",
        "        hidden_sie : Size of the hidden_state of the LSTM   (// Later BiLSTM)\n",
        "        vocab_size : Size of the vocabulary containing unique words\n",
        "        embedding_length : Embeddding dimension of GloVe word embeddings\n",
        "        weights : Pre-trained GloVe word_embeddings which we will use to create our word_embedding look-up table \n",
        "\n",
        "        --------\n",
        "\n",
        "        \"\"\"\n",
        "\n",
        "        self.batch_size = batch_size\n",
        "        self.num_classes = num_classes\n",
        "        self.vocab_size = vocab_size\n",
        "        self.embedding_length = embedding_length\n",
        "        self.aux_hidden_size = aux_hidden_size\n",
        "        self.backbone_hidden_size = backbone_hidden_size \n",
        "        self.mlp_out_size = mlp_out_size\n",
        "        self.biDirectional_aux = biDirectional_aux\n",
        "        self.biDirectional_backbone = biDirectional_backbone\n",
        "        self.tau = tau\n",
        "\n",
        "        self.word_embeddings = nn.Embedding(vocab_size, embedding_length)\n",
        "        self.word_embeddings.weights = nn.Parameter(weights, requires_grad=False)\n",
        "\n",
        "        self.auxiliary = AuxiliaryNet(self.batch_size, self.aux_hidden_size, self.embedding_length, self.biDirectional_aux, tau = self.tau)\n",
        "        self.backbone = BackboneNet(self.batch_size, self.backbone_hidden_size, self.embedding_length, self.biDirectional_backbone)\n",
        "\n",
        "        if(self.biDirectional_backbone):\n",
        "            self.mlp = MLP(self.backbone_hidden_size * 2, self.mlp_out_size)\n",
        "            self.FF = nn.Linear(self.backbone_hidden_size * 2,num_classes)\n",
        "        else:\n",
        "            self.mlp = MLP(self.backbone_hidden_size, self.mlp_out_size)\n",
        "            self.FF = nn.Linear(self.backbone_hidden_size,num_classes)\n",
        "        self.tanh = nn.Tanh()\n",
        "\n",
        "    def masked_Softmax(self, logits, mask):\n",
        "        mask_bool = mask>0\n",
        "        logits[~mask_bool] = float('-inf')\n",
        "        return torch.softmax(logits, dim=1)\n",
        "\n",
        "    \n",
        "    def forward(self,input_sequence, is_train = True):\n",
        "        input_ = self.word_embeddings(input_sequence)\n",
        "        g_t, p_t = self.auxiliary(input_, is_train)\n",
        "        out_lstm = self.backbone(input_)\n",
        "\n",
        "        if is_train:\n",
        "            e_t = self.mlp(out_lstm)\n",
        "#             alpha = torch.softmax(e_t*g_t, dim = 1)\n",
        "#             pdb.set_trace()\n",
        "            alpha_numerator = torch.exp(e_t)*g_t\n",
        "            alpha_denomenator = torch.sum(alpha_numerator, dim=1).repeat(e_t.shape[1],1,1).transpose(0,1)\n",
        "            alpha = alpha_numerator/alpha_denomenator\n",
        "        else:\n",
        "            e_t = self.mlp(out_lstm)               # change if possible!\n",
        "            alpha = self.masked_Softmax(e_t, g_t)\n",
        "            \n",
        "        c_t = torch.bmm(alpha.transpose(1,2), out_lstm)\n",
        "        logits = self.FF(c_t)\n",
        "        logits = self.tanh(logits)\n",
        "        final_output = torch.softmax(logits, dim = -1)\n",
        "        # final_output = final_output.max(2)[1]\n",
        "        final_output = final_output.squeeze(1)\n",
        "\n",
        "        return final_output, g_t, alpha, p_t"
      ],
      "execution_count": 0,
      "outputs": []
    },
    {
      "cell_type": "code",
      "metadata": {
        "colab_type": "code",
        "id": "Pdl-jRmHb5KA",
        "colab": {}
      },
      "source": [
        "class AuxiliaryNet(torch.nn.Module):\n",
        "    \"\"\"\n",
        "    Arguments\n",
        "    ---------\n",
        "    batch_size : Size of the batch which is same as the batch_size of the data returned by the TorchText BucketIterator\n",
        "    aux_hidden_size : Size of the hidden_state of the LSTM   (* Later BiLSTM, check dims for BiLSTM *)\n",
        "    embedding_length : Embeddding dimension of GloVe word embeddings\n",
        "    --------\n",
        "    \"\"\"\n",
        "    def __init__(self, batch_size, auxiliary_hidden_size, embedding_length, biDirectional = False, num_layers = 1, tau=1):\n",
        "        super(AuxiliaryNet, self).__init__()\n",
        "        self.batch_size = batch_size\n",
        "        self.hidden_size = auxiliary_hidden_size\n",
        "        self.embedding_length = embedding_length\n",
        "        self.biDirectional = biDirectional\n",
        "        self.num_layers = num_layers\n",
        "        \n",
        "        self.mlp = Aux_MLP(self.embedding_length)\n",
        "\n",
        "        self.sigmoid = torch.nn.Sigmoid()\n",
        "        self.tau = tau\n",
        "\n",
        "\n",
        "    def forward(self, input_sequence, is_train = True, batch_size=None):\n",
        "\n",
        "        # input : Dimensions (batch_size x seq_len x embedding_length)\n",
        "        # out_lstm, (final_hidden_state, final_cell_state) = self.aux_lstm(input_sequence) # ouput dim: (batch_size x seq_len x hidden_size) \n",
        "        \n",
        "        out_mlp = self.mlp(input_sequence)                                           # p_t dim: (batch_size x seq_len x 1)\n",
        "        p_t = self.sigmoid(out_mlp)\n",
        "\n",
        "        if is_train:\n",
        "            p_t = p_t.repeat(1,1,2)\n",
        "            p_t[:,:,0] = 1 - p_t[:,:,0] \n",
        "            g_hat = F.gumbel_softmax(p_t, self.tau, hard=False)\n",
        "#             print(\"p_t: \", p_t)\n",
        "            g_t = g_hat[:,:,1]\n",
        "            g_t = g_t.reshape(g_t.shape[0], g_t.shape[1], 1)\n",
        "#             print(\"g_t Gumbel: \", g_t)\n",
        "        else:\n",
        "            # size : same as p_t [ batch_size x seq_len x 1]\n",
        "#             print(\"Underlying probability distribution: \", p_t)\n",
        "            m = torch.distributions.bernoulli.Bernoulli(p_t)   \n",
        "#             pdb.set_trace()\n",
        "            g_t = m.sample()\n",
        "            \n",
        "            # We do not want all the values of g_t for a sample to be 0\n",
        "            # Make all g_t's 1 when all are zero\n",
        "            gt_sum = g_t.sum(1)\n",
        "            x = (gt_sum == 0).nonzero()\n",
        "            x = x[:,0]\n",
        "            for i in x:\n",
        "                g_t[i,:,:] = torch.ones(g_t[i,:,:].shape)\n",
        "#             print(\"All zero: \", len(x))\n",
        "        return g_t, p_t"
      ],
      "execution_count": 0,
      "outputs": []
    },
    {
      "cell_type": "code",
      "metadata": {
        "colab_type": "code",
        "id": "YT9xWP_MAVmq",
        "colab": {}
      },
      "source": [
        "class BackboneNet(torch.nn.Module):\n",
        "    \"\"\"\n",
        "        Arguments\n",
        "        ---------\n",
        "        batch_size : Size of the batch which is same as the batch_size of the data returned by the TorchText BucketIterator\n",
        "        backbone_hidden_size : Size of the hidden_state of the LSTM   (* Later BiLSTM, check dims for BiLSTM *)\n",
        "        embedding_length : Embeddding dimension of GloVe word embeddings\n",
        "        --------\n",
        "    \"\"\"\n",
        "    def __init__(self, batch_size, backbone_hidden_size, embedding_length, biDirectional = False, num_layers = 2):\n",
        "\n",
        "        super(BackboneNet, self).__init__()\n",
        "        self.batch_size = batch_size\n",
        "        self.hidden_size = backbone_hidden_size\n",
        "        self.embedding_length = embedding_length\n",
        "        self.biDirectional\t= biDirectional\n",
        "        self.num_layers = num_layers\n",
        "\n",
        "        self.backbone_lstm = nn.LSTM(self.embedding_length, self.hidden_size, bidirectional = self.biDirectional, batch_first = True, num_layers = self.num_layers)   # Dropout  \n",
        "\n",
        "    def forward(self, input_sequence, batch_size=None):\n",
        "        out_lstm, (final_hidden_state, final_cell_state) = self.backbone_lstm(input_sequence)   # ouput dim: ( batch_size x seq_len x hidden_size )\n",
        "        return out_lstm\n"
      ],
      "execution_count": 0,
      "outputs": []
    },
    {
      "cell_type": "code",
      "metadata": {
        "id": "5yK5aAf8nVus",
        "colab_type": "code",
        "colab": {}
      },
      "source": [
        "class Aux_MLP(torch.nn.Module):\n",
        "    def __init__(self, input_dim, layer1_dim= 64, layer2_dim = 32 ):\n",
        "        super(Aux_MLP, self).__init__()\n",
        "\n",
        "        self.input_dim = input_dim   # Embedding dimension\n",
        "        self.layer1_dim = layer1_dim\n",
        "        self.layer2_dim = layer2_dim\n",
        "\n",
        "        # self.output_dim = output_dim  # \n",
        "\n",
        "        self.ff_1 = nn.Linear(self.input_dim, self.layer1_dim)\n",
        "#         self.relu = nn.ReLU()\n",
        "        self.tanh = nn.Tanh()\n",
        "        self.ff_2 =  nn.Linear(self.layer1_dim,self.layer2_dim)\n",
        "        self.ff_3 = nn.Linear(self.layer2_dim,1)\n",
        "        self.sigmoid = nn.Sigmoid()\n",
        "\n",
        "    def forward(self,x):\n",
        "        out_1 = self.ff_1(x)\n",
        "#         out_relu = self.relu(out_1)\n",
        "#         out_2 = self.ff_2(out_relu)\n",
        "        out_tanh_1 = self.tanh(out_1)\n",
        "        out_2 = self.ff_2(out_tanh_1)\n",
        "        out_tanh_2 = self.tanh(out_2)\n",
        "        out_3 = self.ff_3(out_tanh_2)\n",
        "#         out_sigmoid = self.sigmoid(out_2)\n",
        "\n",
        "        return out_3"
      ],
      "execution_count": 0,
      "outputs": []
    },
    {
      "cell_type": "code",
      "metadata": {
        "colab_type": "code",
        "id": "x_eU0HR-j8lW",
        "colab": {}
      },
      "source": [
        "class MLP(torch.nn.Module):\n",
        "    def __init__(self, input_dim, output_dim):\n",
        "        super(MLP, self).__init__()\n",
        "\n",
        "        self.input_dim = input_dim\n",
        "        self.output_dim = output_dim\n",
        "\n",
        "        self.ff_1 = nn.Linear(self.input_dim, self.output_dim)\n",
        "#         self.relu = nn.ReLU()\n",
        "        self.tanh = nn.Tanh()\n",
        "        self.ff_2 = nn.Linear(self.output_dim,1)\n",
        "        self.sigmoid = nn.Sigmoid()\n",
        "\n",
        "    def forward(self,x):\n",
        "        out_1 = self.ff_1(x)\n",
        "#         out_relu = self.relu(out_1)\n",
        "#         out_2 = self.ff_2(out_relu)\n",
        "        out_tanh = self.tanh(out_1)\n",
        "        out_2 = self.ff_2(out_tanh)\n",
        "#         out_sigmoid = self.sigmoid(out_2)\n",
        "\n",
        "        return out_2 "
      ],
      "execution_count": 0,
      "outputs": []
    },
    {
      "cell_type": "code",
      "metadata": {
        "colab_type": "code",
        "id": "Swz_WT2mS3zq",
        "colab": {}
      },
      "source": [
        "def clip_gradient(model, clip_value):\n",
        "    params = list(filter(lambda p: p.grad is not None, model.parameters()))\n",
        "    for p in params:\n",
        "        p.grad.data.clamp_(-clip_value, clip_value)\n",
        "    \n",
        "def train_model(model, optim, train_iter, epoch, batch_size):\n",
        "    total_epoch_loss = 0\n",
        "    total_epoch_acc = 0\n",
        "    # model.cuda()\n",
        "#     optim = torch.optim.Adam(filter(lambda p: p.requires_grad, model.parameters()))\n",
        "    steps = 0\n",
        "    model.train()\n",
        "    for idx, batch in enumerate(train_iter):\n",
        "        text = batch.text[0]\n",
        "        target = batch.label\n",
        "        target = torch.autograd.Variable(target).long()\n",
        "        if torch.cuda.is_available():\n",
        "            text = text.cuda()\n",
        "            target = target.cuda()\n",
        "        if (text.size()[0] is not batch_size):# One of the batch returned by BucketIterator has length different than 32.\n",
        "            continue\n",
        "        optim.zero_grad()\n",
        "        prediction, g_t, alpha, p_t = model(text, is_train = True)\n",
        "        # print(\"prediction = \", prediction.shape)\n",
        "        # print(\"target = \", target.shape)\n",
        "        # print(\"prediction = \", prediction)\n",
        "        # print(\"target = \", target)\n",
        "        \n",
        "        # Modifies loss function\n",
        "        loss = loss_fn(prediction, target, g_t)\n",
        "\n",
        "        # Defualt - Cross entropy loss funtion\n",
        "#         loss = loss_fn(prediction, target)\n",
        "        \n",
        "        # print(\"loss = \", loss)\n",
        "        \n",
        "        num_corrects = (torch.max(prediction, 1)[1].view(target.size()).data == target.data).float().sum()\n",
        "        acc = 100.0 * num_corrects/len(batch)\n",
        "        loss.backward()\n",
        "        clip_gradient(model, 1e-1)\n",
        "        optim.step()\n",
        "        steps += 1\n",
        "        \n",
        "        # if steps % 10 == 0:\n",
        "            # print (f'Epoch: {epoch+1}, Idx: {idx+1}, Training Loss: {loss.item():.4f}, Training Accuracy: {acc.item(): .2f}%')\n",
        "            # break\n",
        "        \n",
        "        total_epoch_loss += loss.item()\n",
        "        total_epoch_acc += acc.item()\n",
        "\n",
        "    return total_epoch_loss/len(train_iter), total_epoch_acc/len(train_iter)\n",
        "\n",
        "def eval_model(model, val_iter):\n",
        "    total_epoch_loss = 0\n",
        "    total_epoch_acc = 0\n",
        "    total_attention =  0\n",
        "    total_samples = 0 \n",
        "    model.eval()\n",
        "    with torch.no_grad():\n",
        "        for idx, batch in enumerate(val_iter):\n",
        "            text = batch.text[0]\n",
        "            target = batch.label\n",
        "            target = torch.autograd.Variable(target).long()\n",
        "            if torch.cuda.is_available():\n",
        "                text = text.cuda()\n",
        "                target = target.cuda()\n",
        "            prediction, g_t, alpha, p_t = model(text, is_train = False)\n",
        "            # Sanity check\n",
        "            # print(\"Test Prediction: \", prediction)\n",
        "            # print(\"Gate values: \", g_t)\n",
        "\n",
        "            # For density calculation\n",
        "            total_attention += torch.sum(g_t)\n",
        "            # print(total_attention)\n",
        "            # print(g_t.shape)\n",
        "            total_samples += g_t.shape[0] * g_t.shape[1]\n",
        "            \n",
        "            # Modifies loss function\n",
        "            loss = loss_fn(prediction, target, g_t)\n",
        "\n",
        "            # Defualt - Cross entropy loss funtion\n",
        "#             loss =  loss_fn(prediction, target)\n",
        "            \n",
        "            if math.isnan(loss.item()):\n",
        "                print(prediction, target)\n",
        "            \n",
        "            num_corrects = (torch.max(prediction, 1)[1].view(target.size()).data == target.data).sum()\n",
        "            acc = 100.0 * num_corrects/len(batch)\n",
        "            total_epoch_loss += loss.item()\n",
        "            total_epoch_acc += acc.item()\n",
        "            \n",
        "    return total_epoch_loss/len(val_iter), total_epoch_acc/len(val_iter), total_attention/total_samples "
      ],
      "execution_count": 0,
      "outputs": []
    },
    {
      "cell_type": "code",
      "metadata": {
        "colab_type": "code",
        "id": "vAjlrmkGSEQQ",
        "colab": {}
      },
      "source": [
        "# data.py\n",
        "def load_TREC_data(batch_size= 16, embedding_length = 100):\n",
        "    # set up fields\n",
        "    tokenize = lambda x: x.split()\n",
        "    TEXT = data.Field(sequential=True, tokenize=tokenize, lower=True, include_lengths=True, batch_first=True, fix_length= 10)\n",
        "    # LABEL = data.LabelField()\n",
        "    LABEL = data.LabelField(dtype=torch.float)\n",
        "\n",
        "    # make splits for data\n",
        "    train, test = datasets.TREC.splits(TEXT, LABEL)\n",
        "    train, valid = train.split() \n",
        "    \n",
        "    # build the vocabulary\n",
        "    TEXT.build_vocab(train, vectors=GloVe(name='6B', dim=embedding_length))\n",
        "    LABEL.build_vocab(train)\n",
        "    print(LABEL.vocab.__dict__)\n",
        "\n",
        "    # make iterator for splits\n",
        "    train_iter, valid_iter, test_iter = data.BucketIterator.splits(\n",
        "      (train, valid, test), batch_size= batch_size, device=0)\n",
        "\n",
        "    word_embeddings = TEXT.vocab.vectors\n",
        "    vocab_size = len(TEXT.vocab)\n",
        "\n",
        "    return TEXT, vocab_size, word_embeddings, train_iter, valid_iter, test_iter"
      ],
      "execution_count": 0,
      "outputs": []
    },
    {
      "cell_type": "code",
      "metadata": {
        "colab_type": "code",
        "id": "xHuvlEncW_tw",
        "outputId": "dbe599ae-6737-4aab-c7f4-0927fd228352",
        "colab": {
          "base_uri": "https://localhost:8080/",
          "height": 188
        }
      },
      "source": [
        "# main.py\n",
        "TEXT, vocab_size, word_embeddings, train_iter, valid_iter, test_iter = load_TREC_data()"
      ],
      "execution_count": 10,
      "outputs": [
        {
          "output_type": "stream",
          "text": [
            "downloading train_5500.label\n"
          ],
          "name": "stdout"
        },
        {
          "output_type": "stream",
          "text": [
            "train_5500.label: 100%|██████████| 336k/336k [00:00<00:00, 4.30MB/s]\n",
            "TREC_10.label: 100%|██████████| 23.4k/23.4k [00:00<00:00, 1.17MB/s]\n"
          ],
          "name": "stderr"
        },
        {
          "output_type": "stream",
          "text": [
            "downloading TREC_10.label\n"
          ],
          "name": "stdout"
        },
        {
          "output_type": "stream",
          "text": [
            ".vector_cache/glove.6B.zip: 862MB [06:28, 2.22MB/s]                          \n",
            "100%|█████████▉| 399218/400000 [00:18<00:00, 21566.37it/s]WARNING:torchtext.data.iterator:The `device` argument should be set by using `torch.device` or passing a string as an argument. This behavior will be deprecated soon and currently defaults to cpu.\n",
            "WARNING:torchtext.data.iterator:The `device` argument should be set by using `torch.device` or passing a string as an argument. This behavior will be deprecated soon and currently defaults to cpu.\n",
            "WARNING:torchtext.data.iterator:The `device` argument should be set by using `torch.device` or passing a string as an argument. This behavior will be deprecated soon and currently defaults to cpu.\n"
          ],
          "name": "stderr"
        },
        {
          "output_type": "stream",
          "text": [
            "{'freqs': Counter({'ENTY': 871, 'HUM': 835, 'DESC': 832, 'NUM': 624, 'LOC': 598, 'ABBR': 56}), 'itos': ['ENTY', 'HUM', 'DESC', 'NUM', 'LOC', 'ABBR'], 'unk_index': None, 'stoi': defaultdict(None, {'ENTY': 0, 'HUM': 1, 'DESC': 2, 'NUM': 3, 'LOC': 4, 'ABBR': 5}), 'vectors': None}\n"
          ],
          "name": "stdout"
        }
      ]
    },
    {
      "cell_type": "code",
      "metadata": {
        "colab_type": "code",
        "id": "dkoJVXJ2mzCD",
        "colab": {}
      },
      "source": [
        "def loss_fn(output, target, g_t, lambda_ = 1e-4):\n",
        "    T = g_t.shape[0]*g_t.shape[1]\n",
        "    # loss = -nn.LogSoftmax(output[target], dim = 1) + (lambda_ * torch.sum(g_t))/T\n",
        "    loss = F.cross_entropy(output, target) + (lambda_ * (torch.sum(g_t)/T))\n",
        "    return loss"
      ],
      "execution_count": 0,
      "outputs": []
    },
    {
      "cell_type": "code",
      "metadata": {
        "colab_type": "code",
        "id": "PImJSOJmzQgT",
        "colab": {}
      },
      "source": [
        "# Over-writing the loss function to simple cross entropy loss\n",
        "# loss_fn = F.cross_entropy\n",
        "\n",
        "learning_rate = 2e-5\n",
        "batch_size = 16\n",
        "output_size = 6\n",
        "hidden_size = 256\n",
        "embedding_length = 100\n",
        "num_classes = 6\n",
        "mlp_out_size = 32\n",
        "weights = word_embeddings\n",
        "aux_hidden_size = 100\n",
        "batch_hidden_size = 100\n",
        "tau = 1\n",
        "\n",
        "model = GANet(batch_size, num_classes, mlp_out_size, vocab_size, embedding_length, weights, tau= tau, biDirectional_aux=True, biDirectional_backbone=True)\n",
        "optim = torch.optim.Adam(filter(lambda p: p.requires_grad, model.parameters()))"
      ],
      "execution_count": 0,
      "outputs": []
    },
    {
      "cell_type": "code",
      "metadata": {
        "colab_type": "code",
        "id": "EcU6SSW8bDln",
        "outputId": "f6ffa4b6-9437-4953-fab7-8a0c723342e4",
        "colab": {
          "base_uri": "https://localhost:8080/",
          "height": 1000
        }
      },
      "source": [
        "num_bad_epochs = 0\n",
        "epoch = 0\n",
        "least_loss = float('inf')\n",
        "training_stats = pd.DataFrame(columns=['Epoch', 'Train_Loss', 'Train_Acc', 'Val_Loss', 'Val_Acc', 'Val_Density'])\n",
        "\n",
        "while(True):\n",
        "    train_loss, train_acc = train_model(model, optim, train_iter, epoch, batch_size)\n",
        "    val_loss, val_acc, val_density = eval_model(model, valid_iter) \n",
        "    print(f'Epoch: {epoch+1:02}')\n",
        "    if val_loss < least_loss:\n",
        "        least_loss = val_loss\n",
        "        num_bad_epochs = 0\n",
        "        print(\"*** Least validation loss\")\n",
        "        torch.save(model.state_dict(), \"BiLSTM+BiLSTM_BS_16\")\n",
        "    else:\n",
        "        num_bad_epochs += 1\n",
        "#     print(f'Epoch: {epoch+1:2}, Train Loss: {train_loss:.3f}, Train Acc: {train_acc:.2f}%')\n",
        "    print(f'Train Loss: {train_loss:.3f}, Train Acc: {train_acc:.2f}%') \n",
        "    print(f'Val Loss: {val_loss:3f}, Val Acc: {val_acc:.2f}%, Val Density: {val_density:.4f}')\n",
        "    print(\"-------------\")\n",
        "    \n",
        "    training_stats = training_stats.append(\n",
        "        pd.Series([epoch+1, train_loss, train_acc, val_loss, val_acc, val_density], index=training_stats.columns), \n",
        "        ignore_index=True)\n",
        "#     if num_bad_epochs >= 10:\n",
        "#         break\n",
        "        \n",
        "    epoch += 1\n",
        "    if epoch == 50:\n",
        "        break"
      ],
      "execution_count": 13,
      "outputs": [
        {
          "output_type": "stream",
          "text": [
            "Epoch: 01\n",
            "*** Least validation loss\n",
            "Train Loss: 1.628, Train Acc: 52.59%\n",
            "Val Loss: 1.556285, Val Acc: 65.72%, Val Density: 0.4880\n",
            "-------------\n"
          ],
          "name": "stdout"
        },
        {
          "output_type": "stream",
          "text": [
            "\r100%|█████████▉| 399218/400000 [00:30<00:00, 21566.37it/s]"
          ],
          "name": "stderr"
        },
        {
          "output_type": "stream",
          "text": [
            "Epoch: 02\n",
            "*** Least validation loss\n",
            "Train Loss: 1.526, Train Acc: 71.10%\n",
            "Val Loss: 1.527702, Val Acc: 71.91%, Val Density: 0.4930\n",
            "-------------\n",
            "Epoch: 03\n",
            "*** Least validation loss\n",
            "Train Loss: 1.496, Train Acc: 76.41%\n",
            "Val Loss: 1.523074, Val Acc: 72.51%, Val Density: 0.4616\n",
            "-------------\n",
            "Epoch: 04\n",
            "*** Least validation loss\n",
            "Train Loss: 1.481, Train Acc: 79.34%\n",
            "Val Loss: 1.515676, Val Acc: 74.09%, Val Density: 0.4869\n",
            "-------------\n",
            "Epoch: 05\n",
            "Train Loss: 1.470, Train Acc: 81.67%\n",
            "Val Loss: 1.516554, Val Acc: 73.67%, Val Density: 0.4902\n",
            "-------------\n",
            "Epoch: 06\n",
            "*** Least validation loss\n",
            "Train Loss: 1.457, Train Acc: 84.13%\n",
            "Val Loss: 1.508507, Val Acc: 75.18%, Val Density: 0.4530\n",
            "-------------\n",
            "Epoch: 07\n",
            "*** Least validation loss\n",
            "Train Loss: 1.448, Train Acc: 86.11%\n",
            "Val Loss: 1.503547, Val Acc: 76.40%, Val Density: 0.4620\n",
            "-------------\n",
            "Epoch: 08\n",
            "*** Least validation loss\n",
            "Train Loss: 1.441, Train Acc: 87.21%\n",
            "Val Loss: 1.501201, Val Acc: 77.12%, Val Density: 0.5057\n",
            "-------------\n",
            "Epoch: 09\n",
            "*** Least validation loss\n",
            "Train Loss: 1.433, Train Acc: 88.83%\n",
            "Val Loss: 1.498095, Val Acc: 77.91%, Val Density: 0.5100\n",
            "-------------\n",
            "Epoch: 10\n",
            "Train Loss: 1.429, Train Acc: 89.67%\n",
            "Val Loss: 1.499159, Val Acc: 77.31%, Val Density: 0.5139\n",
            "-------------\n",
            "Epoch: 11\n",
            "*** Least validation loss\n",
            "Train Loss: 1.425, Train Acc: 90.25%\n",
            "Val Loss: 1.494925, Val Acc: 78.34%, Val Density: 0.5230\n",
            "-------------\n",
            "Epoch: 12\n",
            "Train Loss: 1.422, Train Acc: 91.06%\n",
            "Val Loss: 1.500166, Val Acc: 77.00%, Val Density: 0.5268\n",
            "-------------\n",
            "Epoch: 13\n",
            "Train Loss: 1.420, Train Acc: 91.32%\n",
            "Val Loss: 1.495342, Val Acc: 78.28%, Val Density: 0.5410\n",
            "-------------\n",
            "Epoch: 14\n",
            "*** Least validation loss\n",
            "Train Loss: 1.418, Train Acc: 91.63%\n",
            "Val Loss: 1.490486, Val Acc: 78.94%, Val Density: 0.5358\n",
            "-------------\n",
            "Epoch: 15\n",
            "Train Loss: 1.419, Train Acc: 91.50%\n",
            "Val Loss: 1.491834, Val Acc: 78.70%, Val Density: 0.5302\n",
            "-------------\n",
            "Epoch: 16\n",
            "*** Least validation loss\n",
            "Train Loss: 1.414, Train Acc: 92.34%\n",
            "Val Loss: 1.487510, Val Acc: 79.49%, Val Density: 0.5267\n",
            "-------------\n",
            "Epoch: 17\n",
            "Train Loss: 1.414, Train Acc: 92.34%\n",
            "Val Loss: 1.490074, Val Acc: 79.37%, Val Density: 0.5348\n",
            "-------------\n",
            "Epoch: 18\n",
            "*** Least validation loss\n",
            "Train Loss: 1.414, Train Acc: 92.42%\n",
            "Val Loss: 1.485773, Val Acc: 79.61%, Val Density: 0.5240\n",
            "-------------\n",
            "Epoch: 19\n",
            "Train Loss: 1.415, Train Acc: 92.21%\n",
            "Val Loss: 1.487042, Val Acc: 79.92%, Val Density: 0.5224\n",
            "-------------\n",
            "Epoch: 20\n",
            "Train Loss: 1.412, Train Acc: 92.81%\n",
            "Val Loss: 1.494529, Val Acc: 77.97%, Val Density: 0.5224\n",
            "-------------\n",
            "Epoch: 21\n",
            "Train Loss: 1.412, Train Acc: 92.73%\n",
            "Val Loss: 1.490775, Val Acc: 79.13%, Val Density: 0.5122\n",
            "-------------\n",
            "Epoch: 22\n",
            "Train Loss: 1.409, Train Acc: 93.25%\n",
            "Val Loss: 1.489731, Val Acc: 79.67%, Val Density: 0.4970\n",
            "-------------\n",
            "Epoch: 23\n",
            "Train Loss: 1.409, Train Acc: 93.33%\n",
            "Val Loss: 1.496557, Val Acc: 77.79%, Val Density: 0.5343\n",
            "-------------\n",
            "Epoch: 24\n",
            "Train Loss: 1.412, Train Acc: 92.81%\n",
            "Val Loss: 1.488464, Val Acc: 79.43%, Val Density: 0.4674\n",
            "-------------\n",
            "Epoch: 25\n",
            "Train Loss: 1.408, Train Acc: 93.46%\n",
            "Val Loss: 1.491631, Val Acc: 78.64%, Val Density: 0.5252\n",
            "-------------\n",
            "Epoch: 26\n",
            "Train Loss: 1.407, Train Acc: 93.70%\n",
            "Val Loss: 1.487495, Val Acc: 79.67%, Val Density: 0.5505\n",
            "-------------\n",
            "Epoch: 27\n",
            "Train Loss: 1.406, Train Acc: 93.93%\n",
            "Val Loss: 1.486421, Val Acc: 79.98%, Val Density: 0.5460\n",
            "-------------\n",
            "Epoch: 28\n",
            "Train Loss: 1.406, Train Acc: 93.96%\n",
            "Val Loss: 1.486361, Val Acc: 80.16%, Val Density: 0.5474\n",
            "-------------\n",
            "Epoch: 29\n",
            "Train Loss: 1.405, Train Acc: 93.99%\n",
            "Val Loss: 1.490585, Val Acc: 79.13%, Val Density: 0.5451\n",
            "-------------\n",
            "Epoch: 30\n",
            "Train Loss: 1.405, Train Acc: 94.14%\n",
            "Val Loss: 1.490200, Val Acc: 79.07%, Val Density: 0.5432\n",
            "-------------\n",
            "Epoch: 31\n",
            "Train Loss: 1.404, Train Acc: 94.12%\n",
            "Val Loss: 1.493039, Val Acc: 78.64%, Val Density: 0.5519\n",
            "-------------\n",
            "Epoch: 32\n",
            "Train Loss: 1.406, Train Acc: 93.88%\n",
            "Val Loss: 1.489063, Val Acc: 78.88%, Val Density: 0.5435\n",
            "-------------\n",
            "Epoch: 33\n",
            "Train Loss: 1.406, Train Acc: 93.85%\n",
            "Val Loss: 1.489563, Val Acc: 78.94%, Val Density: 0.5382\n",
            "-------------\n",
            "Epoch: 34\n",
            "Train Loss: 1.405, Train Acc: 93.99%\n",
            "Val Loss: 1.489670, Val Acc: 79.07%, Val Density: 0.5456\n",
            "-------------\n",
            "Epoch: 35\n",
            "Train Loss: 1.404, Train Acc: 94.25%\n",
            "Val Loss: 1.492296, Val Acc: 78.40%, Val Density: 0.5465\n",
            "-------------\n",
            "Epoch: 36\n",
            "Train Loss: 1.404, Train Acc: 94.25%\n",
            "Val Loss: 1.491283, Val Acc: 78.94%, Val Density: 0.5450\n",
            "-------------\n",
            "Epoch: 37\n",
            "Train Loss: 1.403, Train Acc: 94.43%\n",
            "Val Loss: 1.493702, Val Acc: 78.52%, Val Density: 0.5426\n",
            "-------------\n",
            "Epoch: 38\n",
            "Train Loss: 1.404, Train Acc: 94.19%\n",
            "Val Loss: 1.490361, Val Acc: 78.94%, Val Density: 0.5431\n",
            "-------------\n",
            "Epoch: 39\n",
            "Train Loss: 1.402, Train Acc: 94.48%\n",
            "Val Loss: 1.489895, Val Acc: 78.76%, Val Density: 0.5425\n",
            "-------------\n",
            "Epoch: 40\n",
            "Train Loss: 1.405, Train Acc: 94.01%\n",
            "Val Loss: 1.489676, Val Acc: 79.31%, Val Density: 0.5393\n",
            "-------------\n",
            "Epoch: 41\n",
            "Train Loss: 1.402, Train Acc: 94.59%\n",
            "Val Loss: 1.491508, Val Acc: 78.40%, Val Density: 0.5411\n",
            "-------------\n",
            "Epoch: 42\n",
            "Train Loss: 1.403, Train Acc: 94.43%\n",
            "Val Loss: 1.494752, Val Acc: 78.22%, Val Density: 0.5414\n",
            "-------------\n",
            "Epoch: 43\n",
            "Train Loss: 1.402, Train Acc: 94.64%\n",
            "Val Loss: 1.495835, Val Acc: 77.73%, Val Density: 0.5384\n",
            "-------------\n",
            "Epoch: 44\n",
            "Train Loss: 1.402, Train Acc: 94.53%\n",
            "Val Loss: 1.486631, Val Acc: 79.79%, Val Density: 0.5370\n",
            "-------------\n",
            "Epoch: 45\n",
            "Train Loss: 1.403, Train Acc: 94.43%\n",
            "Val Loss: 1.492560, Val Acc: 78.58%, Val Density: 0.5318\n",
            "-------------\n",
            "Epoch: 46\n",
            "Train Loss: 1.403, Train Acc: 94.35%\n",
            "Val Loss: 1.488888, Val Acc: 79.37%, Val Density: 0.4514\n",
            "-------------\n",
            "Epoch: 47\n",
            "Train Loss: 1.402, Train Acc: 94.43%\n",
            "Val Loss: 1.488575, Val Acc: 79.55%, Val Density: 0.4421\n",
            "-------------\n",
            "Epoch: 48\n",
            "Train Loss: 1.401, Train Acc: 94.67%\n",
            "Val Loss: 1.495630, Val Acc: 77.85%, Val Density: 0.4396\n",
            "-------------\n",
            "Epoch: 49\n",
            "Train Loss: 1.401, Train Acc: 94.64%\n",
            "Val Loss: 1.488670, Val Acc: 79.43%, Val Density: 0.4483\n",
            "-------------\n",
            "Epoch: 50\n",
            "Train Loss: 1.399, Train Acc: 95.06%\n",
            "Val Loss: 1.487746, Val Acc: 79.61%, Val Density: 0.4477\n",
            "-------------\n"
          ],
          "name": "stdout"
        }
      ]
    },
    {
      "cell_type": "code",
      "metadata": {
        "scrolled": true,
        "id": "wMQ9iDkqOack",
        "colab_type": "code",
        "colab": {}
      },
      "source": [
        "training_stats.to_csv(\"BiLSTM+BiLSTM_BS_16.csv\")"
      ],
      "execution_count": 0,
      "outputs": []
    },
    {
      "cell_type": "code",
      "metadata": {
        "id": "luT3ozewOacn",
        "colab_type": "code",
        "colab": {}
      },
      "source": [
        "# # Print model's state_dict\n",
        "# print(\"Model's state_dict:\")\n",
        "# for param_tensor in model.state_dict():\n",
        "#     print(param_tensor, \"\\t\", model.state_dict()[param_tensor].size())\n",
        "\n",
        "# # Print optimizer's state_dict\n",
        "# print(\"Optimizer's state_dict:\")\n",
        "# for var_name in optim.state_dict():\n",
        "#     print(var_name, \"\\t\", optim.state_dict()[var_name])"
      ],
      "execution_count": 0,
      "outputs": []
    },
    {
      "cell_type": "code",
      "metadata": {
        "scrolled": true,
        "id": "6nSbEikLOacp",
        "colab_type": "code",
        "outputId": "2d031c21-f242-4565-bfea-84d61c97d349",
        "colab": {
          "base_uri": "https://localhost:8080/",
          "height": 420
        }
      },
      "source": [
        "loaded_model = GANet(batch_size, num_classes, mlp_out_size, vocab_size, embedding_length, weights, tau= tau, biDirectional_aux=True, biDirectional_backbone=True)\n",
        "loaded_model.load_state_dict(torch.load('BiLSTM+BiLSTM_BS_16'))\n",
        "loaded_model.eval()"
      ],
      "execution_count": 16,
      "outputs": [
        {
          "output_type": "execute_result",
          "data": {
            "text/plain": [
              "GANet(\n",
              "  (word_embeddings): Embedding(6944, 100)\n",
              "  (auxiliary): AuxiliaryNet(\n",
              "    (mlp): Aux_MLP(\n",
              "      (ff_1): Linear(in_features=100, out_features=64, bias=True)\n",
              "      (tanh): Tanh()\n",
              "      (ff_2): Linear(in_features=64, out_features=32, bias=True)\n",
              "      (ff_3): Linear(in_features=32, out_features=1, bias=True)\n",
              "      (sigmoid): Sigmoid()\n",
              "    )\n",
              "    (sigmoid): Sigmoid()\n",
              "  )\n",
              "  (backbone): BackboneNet(\n",
              "    (backbone_lstm): LSTM(100, 100, num_layers=2, batch_first=True, bidirectional=True)\n",
              "  )\n",
              "  (mlp): MLP(\n",
              "    (ff_1): Linear(in_features=200, out_features=32, bias=True)\n",
              "    (tanh): Tanh()\n",
              "    (ff_2): Linear(in_features=32, out_features=1, bias=True)\n",
              "    (sigmoid): Sigmoid()\n",
              "  )\n",
              "  (FF): Linear(in_features=200, out_features=6, bias=True)\n",
              "  (tanh): Tanh()\n",
              ")"
            ]
          },
          "metadata": {
            "tags": []
          },
          "execution_count": 16
        }
      ]
    },
    {
      "cell_type": "code",
      "metadata": {
        "colab_type": "code",
        "id": "vwMLkn7s7cnC",
        "outputId": "cc504948-4420-4e4b-f345-8411a5dc590f",
        "scrolled": true,
        "colab": {
          "base_uri": "https://localhost:8080/",
          "height": 34
        }
      },
      "source": [
        "test_loss, test_acc, density = eval_model(loaded_model, test_iter)\n",
        "print(f'Test Loss: {test_loss:.3f}, Test Acc: {test_acc:.2f}, Density: {density:.4f} ')"
      ],
      "execution_count": 17,
      "outputs": [
        {
          "output_type": "stream",
          "text": [
            "Test Loss: 1.467, Test Acc: 83.59, Density: 0.5516 \n"
          ],
          "name": "stdout"
        }
      ]
    },
    {
      "cell_type": "code",
      "metadata": {
        "colab_type": "code",
        "id": "kj2OOxjKaAIm",
        "outputId": "8e9654b0-4b3b-443f-9713-23290c7d2b05",
        "colab": {
          "base_uri": "https://localhost:8080/",
          "height": 1000
        }
      },
      "source": [
        "def test_sentence(test_sen):\n",
        "    test_sen_list = TEXT.preprocess(test_sen)\n",
        "    print(test_sen_list)\n",
        "    test_sen = [[TEXT.vocab.stoi[x] for x in test_sen_list]]\n",
        "    # print(test_sen)\n",
        "\n",
        "    test_sen = np.asarray(test_sen)\n",
        "    test_sen = torch.LongTensor(test_sen)\n",
        "    test_tensor = Variable(test_sen, volatile=True)\n",
        "\n",
        "    # print(test_tensor)\n",
        "    loaded_model.eval()\n",
        "    prediction, g_t, alpha, p_t = loaded_model(test_tensor, is_train = False)\n",
        "    print(\"prediction =\", prediction)\n",
        "#     print(\"g =\", g_t)\n",
        "    \n",
        "    for i in range(len(test_sen_list)):\n",
        "        print(test_sen_list[i], int(g_t[0][i]), float(p_t[0][i][0]), float(alpha[0][i][0]))\n",
        "    out_class = torch.argmax(prediction)\n",
        "    return out_class\n",
        "\n",
        "# ['ENTY', 'HUM', 'DESC', 'NUM', 'LOC', 'ABBR']\n",
        "test_sen0 = \"What does the six-footed Musca domestica become when it enters a house ?\" # class = Entity - 0\n",
        "test_sen1 = \"Who killed Gandhi ?\"   # Class: HUM - 1\n",
        "test_sen2 = \"What does target heart rate mean ?\" # class = \"DESC\" - 2\n",
        "test_sen3 = \"How old was Joan of Arc when she died ?\" # class = \"NUM\" - 3\n",
        "test_sen4 = \"Where on the body is a mortarboard worn ?\" # class = \"LOC\" - 4\n",
        "test_sen5 = \"What does I.V. stand for ?\" # class = \"ABBR\" - 5\n",
        "x = test_sentence(test_sen0)\n",
        "print(x)\n",
        "print('------------')\n",
        "x = test_sentence(test_sen1)\n",
        "print(x)\n",
        "print('------------')\n",
        "x = test_sentence(test_sen2)\n",
        "print(x)\n",
        "print('------------')\n",
        "x = test_sentence(test_sen3)\n",
        "print(x)\n",
        "print('------------')\n",
        "x = test_sentence(test_sen4)\n",
        "print(x)\n",
        "print('------------')\n",
        "x = test_sentence(test_sen5)\n",
        "print(x)\n",
        "print('------------')"
      ],
      "execution_count": 18,
      "outputs": [
        {
          "output_type": "stream",
          "text": [
            "['what', 'does', 'the', 'six-footed', 'musca', 'domestica', 'become', 'when', 'it', 'enters', 'a', 'house', '?']\n",
            "prediction = tensor([[0.5963, 0.0807, 0.0809, 0.0807, 0.0807, 0.0807]],\n",
            "       grad_fn=<SqueezeBackward1>)\n",
            "what 0 0.003976395819336176 0.0\n",
            "does 0 0.0021155120339244604 0.0\n",
            "the 0 0.0269416905939579 0.0\n",
            "six-footed 1 0.9900999665260315 0.11721692979335785\n",
            "musca 1 0.9900999665260315 0.15338003635406494\n",
            "domestica 1 0.9900999665260315 0.14226682484149933\n",
            "become 1 0.9969335794448853 0.1218630000948906\n",
            "when 1 0.9983291029930115 0.3299843668937683\n",
            "it 1 0.9951359629631042 0.11924856901168823\n",
            "enters 1 0.9900999665260315 0.01604028232395649\n",
            "a 0 0.008908516727387905 0.0\n",
            "house 0 0.0013946479884907603 0.0\n",
            "? 0 0.0009937817230820656 0.0\n",
            "tensor(0, grad_fn=<NotImplemented>)\n",
            "------------\n",
            "['who', 'killed', 'gandhi', '?']\n",
            "prediction = tensor([[0.0807, 0.5964, 0.0807, 0.0807, 0.0807, 0.0807]],\n",
            "       grad_fn=<SqueezeBackward1>)\n",
            "who 0 0.002099711913615465 0.0\n",
            "killed 1 0.9991368651390076 0.5644112825393677\n",
            "gandhi 1 0.43960022926330566 0.4355887174606323\n",
            "? 0 0.0009937817230820656 0.0\n",
            "tensor(1, grad_fn=<NotImplemented>)\n",
            "------------\n",
            "['what', 'does', 'target', 'heart', 'rate', 'mean', '?']\n",
            "prediction = tensor([[0.0807, 0.0807, 0.5964, 0.0808, 0.0807, 0.0807]],\n",
            "       grad_fn=<SqueezeBackward1>)\n",
            "what 0 0.003976395819336176 0.0\n",
            "does 0 0.0021155120339244604 0.0\n",
            "target 1 0.9984632730484009 0.20291002094745636\n",
            "heart 1 0.9991635084152222 0.3588559627532959\n",
            "rate 0 0.0023178746923804283 0.0\n",
            "mean 1 0.9990981817245483 0.43823403120040894\n",
            "? 0 0.0009937817230820656 0.0\n",
            "tensor(2, grad_fn=<NotImplemented>)\n",
            "------------\n",
            "['how', 'old', 'was', 'joan', 'of', 'arc', 'when', 'she', 'died', '?']\n",
            "prediction = tensor([[0.0807, 0.0807, 0.0807, 0.5964, 0.0807, 0.0807]],\n",
            "       grad_fn=<SqueezeBackward1>)\n",
            "how 1 0.9233803153038025 8.247062942245975e-05\n",
            "old 1 0.9970351457595825 0.15783455967903137\n",
            "was 1 0.9991673231124878 0.12524881958961487\n",
            "joan 0 0.3237246870994568 0.0\n",
            "of 0 0.0014710522955283523 0.0\n",
            "arc 1 0.9900999665260315 0.23717036843299866\n",
            "when 1 0.9983291029930115 0.25905561447143555\n",
            "she 1 0.99660325050354 0.2206081748008728\n",
            "died 0 0.024648748338222504 0.0\n",
            "? 0 0.0009937817230820656 0.0\n",
            "tensor(3, grad_fn=<NotImplemented>)\n",
            "------------\n",
            "['where', 'on', 'the', 'body', 'is', 'a', 'mortarboard', 'worn', '?']\n",
            "prediction = tensor([[0.0807, 0.0807, 0.0807, 0.0807, 0.5964, 0.0807]],\n",
            "       grad_fn=<SqueezeBackward1>)\n",
            "where 1 0.999180257320404 0.922254204750061\n",
            "on 0 0.0037055625580251217 0.0\n",
            "the 0 0.0269416905939579 0.0\n",
            "body 1 0.9976822137832642 0.07767870277166367\n",
            "is 0 0.0015610704431310296 0.0\n",
            "a 0 0.008908516727387905 0.0\n",
            "mortarboard 1 0.9900999665260315 4.087352499482222e-05\n",
            "worn 1 0.9900999665260315 2.6201851142104715e-05\n",
            "? 0 0.0009937817230820656 0.0\n",
            "tensor(4, grad_fn=<NotImplemented>)\n",
            "------------\n",
            "['what', 'does', 'i.v.', 'stand', 'for', '?']\n",
            "prediction = tensor([[0.5430, 0.0750, 0.1571, 0.0751, 0.0749, 0.0749]],\n",
            "       grad_fn=<SqueezeBackward1>)\n",
            "what 0 0.003976395819336176 0.0\n",
            "does 0 0.0021155120339244604 0.0\n",
            "i.v. 1 0.9900999665260315 1.0\n",
            "stand 0 0.0011671397369354963 0.0\n",
            "for 0 0.0025714440271258354 0.0\n",
            "? 0 0.0009937817230820656 0.0\n",
            "tensor(0, grad_fn=<NotImplemented>)\n",
            "------------\n"
          ],
          "name": "stdout"
        },
        {
          "output_type": "stream",
          "text": [
            "/usr/local/lib/python3.6/dist-packages/ipykernel_launcher.py:9: UserWarning: volatile was removed and now has no effect. Use `with torch.no_grad():` instead.\n",
            "  if __name__ == '__main__':\n"
          ],
          "name": "stderr"
        }
      ]
    },
    {
      "cell_type": "code",
      "metadata": {
        "colab_type": "code",
        "id": "DJf5OMBaO8Wl",
        "colab": {}
      },
      "source": [
        ""
      ],
      "execution_count": 0,
      "outputs": []
    },
    {
      "cell_type": "code",
      "metadata": {
        "id": "Tq49vAs5Oacz",
        "colab_type": "code",
        "outputId": "4dc29adf-c838-4ba1-c0ef-f9f5e86e1d64",
        "colab": {
          "base_uri": "https://localhost:8080/",
          "height": 1000
        }
      },
      "source": [
        "training_stats"
      ],
      "execution_count": 19,
      "outputs": [
        {
          "output_type": "execute_result",
          "data": {
            "text/html": [
              "<div>\n",
              "<style scoped>\n",
              "    .dataframe tbody tr th:only-of-type {\n",
              "        vertical-align: middle;\n",
              "    }\n",
              "\n",
              "    .dataframe tbody tr th {\n",
              "        vertical-align: top;\n",
              "    }\n",
              "\n",
              "    .dataframe thead th {\n",
              "        text-align: right;\n",
              "    }\n",
              "</style>\n",
              "<table border=\"1\" class=\"dataframe\">\n",
              "  <thead>\n",
              "    <tr style=\"text-align: right;\">\n",
              "      <th></th>\n",
              "      <th>Epoch</th>\n",
              "      <th>Train_Loss</th>\n",
              "      <th>Train_Acc</th>\n",
              "      <th>Val_Loss</th>\n",
              "      <th>Val_Acc</th>\n",
              "      <th>Val_Density</th>\n",
              "    </tr>\n",
              "  </thead>\n",
              "  <tbody>\n",
              "    <tr>\n",
              "      <th>0</th>\n",
              "      <td>1</td>\n",
              "      <td>1.627947</td>\n",
              "      <td>52.588912</td>\n",
              "      <td>1.556285</td>\n",
              "      <td>65.716019</td>\n",
              "      <td>tensor(0.4880)</td>\n",
              "    </tr>\n",
              "    <tr>\n",
              "      <th>1</th>\n",
              "      <td>2</td>\n",
              "      <td>1.526138</td>\n",
              "      <td>71.103556</td>\n",
              "      <td>1.527702</td>\n",
              "      <td>71.905340</td>\n",
              "      <td>tensor(0.4930)</td>\n",
              "    </tr>\n",
              "    <tr>\n",
              "      <th>2</th>\n",
              "      <td>3</td>\n",
              "      <td>1.496183</td>\n",
              "      <td>76.412134</td>\n",
              "      <td>1.523074</td>\n",
              "      <td>72.512136</td>\n",
              "      <td>tensor(0.4616)</td>\n",
              "    </tr>\n",
              "    <tr>\n",
              "      <th>3</th>\n",
              "      <td>4</td>\n",
              "      <td>1.481103</td>\n",
              "      <td>79.341004</td>\n",
              "      <td>1.515676</td>\n",
              "      <td>74.089806</td>\n",
              "      <td>tensor(0.4869)</td>\n",
              "    </tr>\n",
              "    <tr>\n",
              "      <th>4</th>\n",
              "      <td>5</td>\n",
              "      <td>1.469833</td>\n",
              "      <td>81.668410</td>\n",
              "      <td>1.516554</td>\n",
              "      <td>73.665049</td>\n",
              "      <td>tensor(0.4902)</td>\n",
              "    </tr>\n",
              "    <tr>\n",
              "      <th>5</th>\n",
              "      <td>6</td>\n",
              "      <td>1.456722</td>\n",
              "      <td>84.126569</td>\n",
              "      <td>1.508507</td>\n",
              "      <td>75.182039</td>\n",
              "      <td>tensor(0.4530)</td>\n",
              "    </tr>\n",
              "    <tr>\n",
              "      <th>6</th>\n",
              "      <td>7</td>\n",
              "      <td>1.447627</td>\n",
              "      <td>86.114017</td>\n",
              "      <td>1.503547</td>\n",
              "      <td>76.395631</td>\n",
              "      <td>tensor(0.4620)</td>\n",
              "    </tr>\n",
              "    <tr>\n",
              "      <th>7</th>\n",
              "      <td>8</td>\n",
              "      <td>1.441346</td>\n",
              "      <td>87.212343</td>\n",
              "      <td>1.501201</td>\n",
              "      <td>77.123786</td>\n",
              "      <td>tensor(0.5057)</td>\n",
              "    </tr>\n",
              "    <tr>\n",
              "      <th>8</th>\n",
              "      <td>9</td>\n",
              "      <td>1.432639</td>\n",
              "      <td>88.833682</td>\n",
              "      <td>1.498095</td>\n",
              "      <td>77.912621</td>\n",
              "      <td>tensor(0.5100)</td>\n",
              "    </tr>\n",
              "    <tr>\n",
              "      <th>9</th>\n",
              "      <td>10</td>\n",
              "      <td>1.428836</td>\n",
              "      <td>89.670502</td>\n",
              "      <td>1.499159</td>\n",
              "      <td>77.305825</td>\n",
              "      <td>tensor(0.5139)</td>\n",
              "    </tr>\n",
              "    <tr>\n",
              "      <th>10</th>\n",
              "      <td>11</td>\n",
              "      <td>1.424833</td>\n",
              "      <td>90.245816</td>\n",
              "      <td>1.494925</td>\n",
              "      <td>78.337379</td>\n",
              "      <td>tensor(0.5230)</td>\n",
              "    </tr>\n",
              "    <tr>\n",
              "      <th>11</th>\n",
              "      <td>12</td>\n",
              "      <td>1.421524</td>\n",
              "      <td>91.056485</td>\n",
              "      <td>1.500166</td>\n",
              "      <td>77.002427</td>\n",
              "      <td>tensor(0.5268)</td>\n",
              "    </tr>\n",
              "    <tr>\n",
              "      <th>12</th>\n",
              "      <td>13</td>\n",
              "      <td>1.419848</td>\n",
              "      <td>91.317992</td>\n",
              "      <td>1.495342</td>\n",
              "      <td>78.276699</td>\n",
              "      <td>tensor(0.5410)</td>\n",
              "    </tr>\n",
              "    <tr>\n",
              "      <th>13</th>\n",
              "      <td>14</td>\n",
              "      <td>1.418055</td>\n",
              "      <td>91.631799</td>\n",
              "      <td>1.490486</td>\n",
              "      <td>78.944175</td>\n",
              "      <td>tensor(0.5358)</td>\n",
              "    </tr>\n",
              "    <tr>\n",
              "      <th>14</th>\n",
              "      <td>15</td>\n",
              "      <td>1.418529</td>\n",
              "      <td>91.501046</td>\n",
              "      <td>1.491834</td>\n",
              "      <td>78.701456</td>\n",
              "      <td>tensor(0.5302)</td>\n",
              "    </tr>\n",
              "    <tr>\n",
              "      <th>15</th>\n",
              "      <td>16</td>\n",
              "      <td>1.414421</td>\n",
              "      <td>92.337866</td>\n",
              "      <td>1.487510</td>\n",
              "      <td>79.490291</td>\n",
              "      <td>tensor(0.5267)</td>\n",
              "    </tr>\n",
              "    <tr>\n",
              "      <th>16</th>\n",
              "      <td>17</td>\n",
              "      <td>1.414360</td>\n",
              "      <td>92.337866</td>\n",
              "      <td>1.490074</td>\n",
              "      <td>79.368932</td>\n",
              "      <td>tensor(0.5348)</td>\n",
              "    </tr>\n",
              "    <tr>\n",
              "      <th>17</th>\n",
              "      <td>18</td>\n",
              "      <td>1.413817</td>\n",
              "      <td>92.416318</td>\n",
              "      <td>1.485773</td>\n",
              "      <td>79.611650</td>\n",
              "      <td>tensor(0.5240)</td>\n",
              "    </tr>\n",
              "    <tr>\n",
              "      <th>18</th>\n",
              "      <td>19</td>\n",
              "      <td>1.414988</td>\n",
              "      <td>92.207113</td>\n",
              "      <td>1.487042</td>\n",
              "      <td>79.915049</td>\n",
              "      <td>tensor(0.5224)</td>\n",
              "    </tr>\n",
              "    <tr>\n",
              "      <th>19</th>\n",
              "      <td>20</td>\n",
              "      <td>1.412029</td>\n",
              "      <td>92.808577</td>\n",
              "      <td>1.494529</td>\n",
              "      <td>77.973301</td>\n",
              "      <td>tensor(0.5224)</td>\n",
              "    </tr>\n",
              "    <tr>\n",
              "      <th>20</th>\n",
              "      <td>21</td>\n",
              "      <td>1.411954</td>\n",
              "      <td>92.730126</td>\n",
              "      <td>1.490775</td>\n",
              "      <td>79.126214</td>\n",
              "      <td>tensor(0.5122)</td>\n",
              "    </tr>\n",
              "    <tr>\n",
              "      <th>21</th>\n",
              "      <td>22</td>\n",
              "      <td>1.409313</td>\n",
              "      <td>93.253138</td>\n",
              "      <td>1.489731</td>\n",
              "      <td>79.672330</td>\n",
              "      <td>tensor(0.4970)</td>\n",
              "    </tr>\n",
              "    <tr>\n",
              "      <th>22</th>\n",
              "      <td>23</td>\n",
              "      <td>1.409027</td>\n",
              "      <td>93.331590</td>\n",
              "      <td>1.496557</td>\n",
              "      <td>77.791262</td>\n",
              "      <td>tensor(0.5343)</td>\n",
              "    </tr>\n",
              "    <tr>\n",
              "      <th>23</th>\n",
              "      <td>24</td>\n",
              "      <td>1.411692</td>\n",
              "      <td>92.808577</td>\n",
              "      <td>1.488464</td>\n",
              "      <td>79.429612</td>\n",
              "      <td>tensor(0.4674)</td>\n",
              "    </tr>\n",
              "    <tr>\n",
              "      <th>24</th>\n",
              "      <td>25</td>\n",
              "      <td>1.408287</td>\n",
              "      <td>93.462343</td>\n",
              "      <td>1.491631</td>\n",
              "      <td>78.640777</td>\n",
              "      <td>tensor(0.5252)</td>\n",
              "    </tr>\n",
              "    <tr>\n",
              "      <th>25</th>\n",
              "      <td>26</td>\n",
              "      <td>1.407228</td>\n",
              "      <td>93.697699</td>\n",
              "      <td>1.487495</td>\n",
              "      <td>79.672330</td>\n",
              "      <td>tensor(0.5505)</td>\n",
              "    </tr>\n",
              "    <tr>\n",
              "      <th>26</th>\n",
              "      <td>27</td>\n",
              "      <td>1.405729</td>\n",
              "      <td>93.933054</td>\n",
              "      <td>1.486421</td>\n",
              "      <td>79.975728</td>\n",
              "      <td>tensor(0.5460)</td>\n",
              "    </tr>\n",
              "    <tr>\n",
              "      <th>27</th>\n",
              "      <td>28</td>\n",
              "      <td>1.405625</td>\n",
              "      <td>93.959205</td>\n",
              "      <td>1.486361</td>\n",
              "      <td>80.157767</td>\n",
              "      <td>tensor(0.5474)</td>\n",
              "    </tr>\n",
              "    <tr>\n",
              "      <th>28</th>\n",
              "      <td>29</td>\n",
              "      <td>1.405253</td>\n",
              "      <td>93.985356</td>\n",
              "      <td>1.490585</td>\n",
              "      <td>79.126214</td>\n",
              "      <td>tensor(0.5451)</td>\n",
              "    </tr>\n",
              "    <tr>\n",
              "      <th>29</th>\n",
              "      <td>30</td>\n",
              "      <td>1.404697</td>\n",
              "      <td>94.142259</td>\n",
              "      <td>1.490200</td>\n",
              "      <td>79.065534</td>\n",
              "      <td>tensor(0.5432)</td>\n",
              "    </tr>\n",
              "    <tr>\n",
              "      <th>30</th>\n",
              "      <td>31</td>\n",
              "      <td>1.404494</td>\n",
              "      <td>94.116109</td>\n",
              "      <td>1.493039</td>\n",
              "      <td>78.640777</td>\n",
              "      <td>tensor(0.5519)</td>\n",
              "    </tr>\n",
              "    <tr>\n",
              "      <th>31</th>\n",
              "      <td>32</td>\n",
              "      <td>1.406111</td>\n",
              "      <td>93.880753</td>\n",
              "      <td>1.489063</td>\n",
              "      <td>78.883495</td>\n",
              "      <td>tensor(0.5435)</td>\n",
              "    </tr>\n",
              "    <tr>\n",
              "      <th>32</th>\n",
              "      <td>33</td>\n",
              "      <td>1.405863</td>\n",
              "      <td>93.854603</td>\n",
              "      <td>1.489563</td>\n",
              "      <td>78.944175</td>\n",
              "      <td>tensor(0.5382)</td>\n",
              "    </tr>\n",
              "    <tr>\n",
              "      <th>33</th>\n",
              "      <td>34</td>\n",
              "      <td>1.405305</td>\n",
              "      <td>93.985356</td>\n",
              "      <td>1.489670</td>\n",
              "      <td>79.065534</td>\n",
              "      <td>tensor(0.5456)</td>\n",
              "    </tr>\n",
              "    <tr>\n",
              "      <th>34</th>\n",
              "      <td>35</td>\n",
              "      <td>1.403884</td>\n",
              "      <td>94.246862</td>\n",
              "      <td>1.492296</td>\n",
              "      <td>78.398058</td>\n",
              "      <td>tensor(0.5465)</td>\n",
              "    </tr>\n",
              "    <tr>\n",
              "      <th>35</th>\n",
              "      <td>36</td>\n",
              "      <td>1.403589</td>\n",
              "      <td>94.246862</td>\n",
              "      <td>1.491283</td>\n",
              "      <td>78.944175</td>\n",
              "      <td>tensor(0.5450)</td>\n",
              "    </tr>\n",
              "    <tr>\n",
              "      <th>36</th>\n",
              "      <td>37</td>\n",
              "      <td>1.402682</td>\n",
              "      <td>94.429916</td>\n",
              "      <td>1.493702</td>\n",
              "      <td>78.519417</td>\n",
              "      <td>tensor(0.5426)</td>\n",
              "    </tr>\n",
              "    <tr>\n",
              "      <th>37</th>\n",
              "      <td>38</td>\n",
              "      <td>1.403807</td>\n",
              "      <td>94.194561</td>\n",
              "      <td>1.490361</td>\n",
              "      <td>78.944175</td>\n",
              "      <td>tensor(0.5431)</td>\n",
              "    </tr>\n",
              "    <tr>\n",
              "      <th>38</th>\n",
              "      <td>39</td>\n",
              "      <td>1.402390</td>\n",
              "      <td>94.482218</td>\n",
              "      <td>1.489895</td>\n",
              "      <td>78.762136</td>\n",
              "      <td>tensor(0.5425)</td>\n",
              "    </tr>\n",
              "    <tr>\n",
              "      <th>39</th>\n",
              "      <td>40</td>\n",
              "      <td>1.404673</td>\n",
              "      <td>94.011506</td>\n",
              "      <td>1.489676</td>\n",
              "      <td>79.308252</td>\n",
              "      <td>tensor(0.5393)</td>\n",
              "    </tr>\n",
              "    <tr>\n",
              "      <th>40</th>\n",
              "      <td>41</td>\n",
              "      <td>1.401943</td>\n",
              "      <td>94.586820</td>\n",
              "      <td>1.491508</td>\n",
              "      <td>78.398058</td>\n",
              "      <td>tensor(0.5411)</td>\n",
              "    </tr>\n",
              "    <tr>\n",
              "      <th>41</th>\n",
              "      <td>42</td>\n",
              "      <td>1.402808</td>\n",
              "      <td>94.429916</td>\n",
              "      <td>1.494752</td>\n",
              "      <td>78.216019</td>\n",
              "      <td>tensor(0.5414)</td>\n",
              "    </tr>\n",
              "    <tr>\n",
              "      <th>42</th>\n",
              "      <td>43</td>\n",
              "      <td>1.401574</td>\n",
              "      <td>94.639121</td>\n",
              "      <td>1.495835</td>\n",
              "      <td>77.730583</td>\n",
              "      <td>tensor(0.5384)</td>\n",
              "    </tr>\n",
              "    <tr>\n",
              "      <th>43</th>\n",
              "      <td>44</td>\n",
              "      <td>1.402316</td>\n",
              "      <td>94.534519</td>\n",
              "      <td>1.486631</td>\n",
              "      <td>79.793689</td>\n",
              "      <td>tensor(0.5370)</td>\n",
              "    </tr>\n",
              "    <tr>\n",
              "      <th>44</th>\n",
              "      <td>45</td>\n",
              "      <td>1.402724</td>\n",
              "      <td>94.429916</td>\n",
              "      <td>1.492560</td>\n",
              "      <td>78.580097</td>\n",
              "      <td>tensor(0.5318)</td>\n",
              "    </tr>\n",
              "    <tr>\n",
              "      <th>45</th>\n",
              "      <td>46</td>\n",
              "      <td>1.403256</td>\n",
              "      <td>94.351464</td>\n",
              "      <td>1.488888</td>\n",
              "      <td>79.368932</td>\n",
              "      <td>tensor(0.4514)</td>\n",
              "    </tr>\n",
              "    <tr>\n",
              "      <th>46</th>\n",
              "      <td>47</td>\n",
              "      <td>1.402268</td>\n",
              "      <td>94.429916</td>\n",
              "      <td>1.488575</td>\n",
              "      <td>79.550971</td>\n",
              "      <td>tensor(0.4421)</td>\n",
              "    </tr>\n",
              "    <tr>\n",
              "      <th>47</th>\n",
              "      <td>48</td>\n",
              "      <td>1.401336</td>\n",
              "      <td>94.665272</td>\n",
              "      <td>1.495630</td>\n",
              "      <td>77.851942</td>\n",
              "      <td>tensor(0.4396)</td>\n",
              "    </tr>\n",
              "    <tr>\n",
              "      <th>48</th>\n",
              "      <td>49</td>\n",
              "      <td>1.401115</td>\n",
              "      <td>94.639121</td>\n",
              "      <td>1.488670</td>\n",
              "      <td>79.429612</td>\n",
              "      <td>tensor(0.4483)</td>\n",
              "    </tr>\n",
              "    <tr>\n",
              "      <th>49</th>\n",
              "      <td>50</td>\n",
              "      <td>1.398941</td>\n",
              "      <td>95.057531</td>\n",
              "      <td>1.487746</td>\n",
              "      <td>79.611650</td>\n",
              "      <td>tensor(0.4477)</td>\n",
              "    </tr>\n",
              "  </tbody>\n",
              "</table>\n",
              "</div>"
            ],
            "text/plain": [
              "   Epoch  Train_Loss  Train_Acc  Val_Loss    Val_Acc     Val_Density\n",
              "0      1    1.627947  52.588912  1.556285  65.716019  tensor(0.4880)\n",
              "1      2    1.526138  71.103556  1.527702  71.905340  tensor(0.4930)\n",
              "2      3    1.496183  76.412134  1.523074  72.512136  tensor(0.4616)\n",
              "3      4    1.481103  79.341004  1.515676  74.089806  tensor(0.4869)\n",
              "4      5    1.469833  81.668410  1.516554  73.665049  tensor(0.4902)\n",
              "5      6    1.456722  84.126569  1.508507  75.182039  tensor(0.4530)\n",
              "6      7    1.447627  86.114017  1.503547  76.395631  tensor(0.4620)\n",
              "7      8    1.441346  87.212343  1.501201  77.123786  tensor(0.5057)\n",
              "8      9    1.432639  88.833682  1.498095  77.912621  tensor(0.5100)\n",
              "9     10    1.428836  89.670502  1.499159  77.305825  tensor(0.5139)\n",
              "10    11    1.424833  90.245816  1.494925  78.337379  tensor(0.5230)\n",
              "11    12    1.421524  91.056485  1.500166  77.002427  tensor(0.5268)\n",
              "12    13    1.419848  91.317992  1.495342  78.276699  tensor(0.5410)\n",
              "13    14    1.418055  91.631799  1.490486  78.944175  tensor(0.5358)\n",
              "14    15    1.418529  91.501046  1.491834  78.701456  tensor(0.5302)\n",
              "15    16    1.414421  92.337866  1.487510  79.490291  tensor(0.5267)\n",
              "16    17    1.414360  92.337866  1.490074  79.368932  tensor(0.5348)\n",
              "17    18    1.413817  92.416318  1.485773  79.611650  tensor(0.5240)\n",
              "18    19    1.414988  92.207113  1.487042  79.915049  tensor(0.5224)\n",
              "19    20    1.412029  92.808577  1.494529  77.973301  tensor(0.5224)\n",
              "20    21    1.411954  92.730126  1.490775  79.126214  tensor(0.5122)\n",
              "21    22    1.409313  93.253138  1.489731  79.672330  tensor(0.4970)\n",
              "22    23    1.409027  93.331590  1.496557  77.791262  tensor(0.5343)\n",
              "23    24    1.411692  92.808577  1.488464  79.429612  tensor(0.4674)\n",
              "24    25    1.408287  93.462343  1.491631  78.640777  tensor(0.5252)\n",
              "25    26    1.407228  93.697699  1.487495  79.672330  tensor(0.5505)\n",
              "26    27    1.405729  93.933054  1.486421  79.975728  tensor(0.5460)\n",
              "27    28    1.405625  93.959205  1.486361  80.157767  tensor(0.5474)\n",
              "28    29    1.405253  93.985356  1.490585  79.126214  tensor(0.5451)\n",
              "29    30    1.404697  94.142259  1.490200  79.065534  tensor(0.5432)\n",
              "30    31    1.404494  94.116109  1.493039  78.640777  tensor(0.5519)\n",
              "31    32    1.406111  93.880753  1.489063  78.883495  tensor(0.5435)\n",
              "32    33    1.405863  93.854603  1.489563  78.944175  tensor(0.5382)\n",
              "33    34    1.405305  93.985356  1.489670  79.065534  tensor(0.5456)\n",
              "34    35    1.403884  94.246862  1.492296  78.398058  tensor(0.5465)\n",
              "35    36    1.403589  94.246862  1.491283  78.944175  tensor(0.5450)\n",
              "36    37    1.402682  94.429916  1.493702  78.519417  tensor(0.5426)\n",
              "37    38    1.403807  94.194561  1.490361  78.944175  tensor(0.5431)\n",
              "38    39    1.402390  94.482218  1.489895  78.762136  tensor(0.5425)\n",
              "39    40    1.404673  94.011506  1.489676  79.308252  tensor(0.5393)\n",
              "40    41    1.401943  94.586820  1.491508  78.398058  tensor(0.5411)\n",
              "41    42    1.402808  94.429916  1.494752  78.216019  tensor(0.5414)\n",
              "42    43    1.401574  94.639121  1.495835  77.730583  tensor(0.5384)\n",
              "43    44    1.402316  94.534519  1.486631  79.793689  tensor(0.5370)\n",
              "44    45    1.402724  94.429916  1.492560  78.580097  tensor(0.5318)\n",
              "45    46    1.403256  94.351464  1.488888  79.368932  tensor(0.4514)\n",
              "46    47    1.402268  94.429916  1.488575  79.550971  tensor(0.4421)\n",
              "47    48    1.401336  94.665272  1.495630  77.851942  tensor(0.4396)\n",
              "48    49    1.401115  94.639121  1.488670  79.429612  tensor(0.4483)\n",
              "49    50    1.398941  95.057531  1.487746  79.611650  tensor(0.4477)"
            ]
          },
          "metadata": {
            "tags": []
          },
          "execution_count": 19
        }
      ]
    },
    {
      "cell_type": "code",
      "metadata": {
        "id": "D0rW8bVIOac1",
        "colab_type": "code",
        "outputId": "726c5832-76f4-4171-bc31-692d59ce548a",
        "colab": {
          "base_uri": "https://localhost:8080/",
          "height": 265
        }
      },
      "source": [
        "import matplotlib.pyplot as plt\n",
        "plt.plot(training_stats['Train_Loss'], label=\"Train\")\n",
        "plt.plot(training_stats['Val_Loss'], label=\"Validation\")\n",
        "plt.legend()\n",
        "plt.show()"
      ],
      "execution_count": 20,
      "outputs": [
        {
          "output_type": "display_data",
          "data": {
            "image/png": "[encoded data removed]",
            "text/plain": [
              "<Figure size 432x288 with 1 Axes>"
            ]
          },
          "metadata": {
            "tags": [],
            "needs_background": "light"
          }
        }
      ]
    },
    {
      "cell_type": "code",
      "metadata": {
        "id": "SVADpiSKOac3",
        "colab_type": "code",
        "outputId": "ac0e8444-b439-46ab-8c22-144c49bf3522",
        "colab": {
          "base_uri": "https://localhost:8080/",
          "height": 265
        }
      },
      "source": [
        "plt.plot(training_stats['Train_Acc'], label=\"Train\")\n",
        "plt.plot(training_stats['Val_Acc'], label=\"Validation\")\n",
        "plt.legend()\n",
        "plt.show()"
      ],
      "execution_count": 21,
      "outputs": [
        {
          "output_type": "display_data",
          "data": {
            "image/png": "[encoded data removed]",
            "text/plain": [
              "<Figure size 432x288 with 1 Axes>"
            ]
          },
          "metadata": {
            "tags": [],
            "needs_background": "light"
          }
        }
      ]
    },
    {
      "cell_type": "code",
      "metadata": {
        "id": "rTtmr4FcOac6",
        "colab_type": "code",
        "colab": {}
      },
      "source": [
        ""
      ],
      "execution_count": 0,
      "outputs": []
    },
    {
      "cell_type": "code",
      "metadata": {
        "id": "4neQrm3BOac8",
        "colab_type": "code",
        "outputId": "60412993-c11b-404d-86d2-190b0587b188",
        "colab": {
          "base_uri": "https://localhost:8080/",
          "height": 134
        }
      },
      "source": [
        "t = torch.rand(2,3,4)\n",
        "t"
      ],
      "execution_count": 22,
      "outputs": [
        {
          "output_type": "execute_result",
          "data": {
            "text/plain": [
              "tensor([[[0.2110, 0.6173, 0.4820, 0.6794],\n",
              "         [0.2456, 0.4800, 0.4455, 0.1892],\n",
              "         [0.9780, 0.4053, 0.1661, 0.5889]],\n",
              "\n",
              "        [[0.4965, 0.2578, 0.3643, 0.2801],\n",
              "         [0.6266, 0.2672, 0.8421, 0.2898],\n",
              "         [0.4596, 0.7725, 0.8926, 0.2083]]])"
            ]
          },
          "metadata": {
            "tags": []
          },
          "execution_count": 22
        }
      ]
    },
    {
      "cell_type": "code",
      "metadata": {
        "id": "UPf8PP1YOac-",
        "colab_type": "code",
        "outputId": "914928bd-ea31-4c4e-f514-5d396ca0036b",
        "colab": {
          "base_uri": "https://localhost:8080/",
          "height": 134
        }
      },
      "source": [
        "torch.exp(t)"
      ],
      "execution_count": 23,
      "outputs": [
        {
          "output_type": "execute_result",
          "data": {
            "text/plain": [
              "tensor([[[1.2350, 1.8538, 1.6194, 1.9726],\n",
              "         [1.2784, 1.6160, 1.5613, 1.2083],\n",
              "         [2.6591, 1.4998, 1.1807, 1.8019]],\n",
              "\n",
              "        [[1.6429, 1.2941, 1.4395, 1.3233],\n",
              "         [1.8713, 1.3063, 2.3213, 1.3362],\n",
              "         [1.5834, 2.1651, 2.4414, 1.2316]]])"
            ]
          },
          "metadata": {
            "tags": []
          },
          "execution_count": 23
        }
      ]
    },
    {
      "cell_type": "code",
      "metadata": {
        "scrolled": true,
        "id": "JzEAGTLKOadA",
        "colab_type": "code",
        "outputId": "b9887120-b16e-49c3-dd11-d4b97858656e",
        "colab": {
          "base_uri": "https://localhost:8080/",
          "height": 50
        }
      },
      "source": [
        "torch.sum(torch.exp(t), dim=1)"
      ],
      "execution_count": 24,
      "outputs": [
        {
          "output_type": "execute_result",
          "data": {
            "text/plain": [
              "tensor([[5.1724, 4.9697, 4.3613, 4.9829],\n",
              "        [5.0976, 4.7655, 6.2023, 3.8911]])"
            ]
          },
          "metadata": {
            "tags": []
          },
          "execution_count": 24
        }
      ]
    },
    {
      "cell_type": "code",
      "metadata": {
        "id": "gP-MIxvhOadD",
        "colab_type": "code",
        "outputId": "17b3dd52-993d-42b0-b41e-6599b60d1253",
        "colab": {
          "base_uri": "https://localhost:8080/",
          "height": 134
        }
      },
      "source": [
        "torch.sum(torch.exp(t), dim=1).repeat(3,1,1).transpose(0,1)"
      ],
      "execution_count": 25,
      "outputs": [
        {
          "output_type": "execute_result",
          "data": {
            "text/plain": [
              "tensor([[[5.1724, 4.9697, 4.3613, 4.9829],\n",
              "         [5.1724, 4.9697, 4.3613, 4.9829],\n",
              "         [5.1724, 4.9697, 4.3613, 4.9829]],\n",
              "\n",
              "        [[5.0976, 4.7655, 6.2023, 3.8911],\n",
              "         [5.0976, 4.7655, 6.2023, 3.8911],\n",
              "         [5.0976, 4.7655, 6.2023, 3.8911]]])"
            ]
          },
          "metadata": {
            "tags": []
          },
          "execution_count": 25
        }
      ]
    },
    {
      "cell_type": "code",
      "metadata": {
        "id": "DZgmAKDpOadF",
        "colab_type": "code",
        "outputId": "04e612a3-4b80-4c7c-b5cb-b4a5db11170a",
        "colab": {
          "base_uri": "https://localhost:8080/",
          "height": 134
        }
      },
      "source": [
        "torch.exp(t)/torch.sum(torch.exp(t), dim=1).repeat(3,1,1).transpose(0,1)"
      ],
      "execution_count": 26,
      "outputs": [
        {
          "output_type": "execute_result",
          "data": {
            "text/plain": [
              "tensor([[[0.2388, 0.3730, 0.3713, 0.3959],\n",
              "         [0.2472, 0.3252, 0.3580, 0.2425],\n",
              "         [0.5141, 0.3018, 0.2707, 0.3616]],\n",
              "\n",
              "        [[0.3223, 0.2716, 0.2321, 0.3401],\n",
              "         [0.3671, 0.2741, 0.3743, 0.3434],\n",
              "         [0.3106, 0.4543, 0.3936, 0.3165]]])"
            ]
          },
          "metadata": {
            "tags": []
          },
          "execution_count": 26
        }
      ]
    },
    {
      "cell_type": "code",
      "metadata": {
        "id": "a36Jxzu1OadH",
        "colab_type": "code",
        "colab": {}
      },
      "source": [
        "# g_t = torch.tensor([[[1.],\n",
        "#          [0.],\n",
        "#          [1.],\n",
        "#          [0.],\n",
        "#          [1.],\n",
        "#          [0.],\n",
        "#          [1.],\n",
        "#          [0.],\n",
        "#          [0.],\n",
        "#          [0.]],\n",
        "\n",
        "#         [[0.],\n",
        "#          [1.],\n",
        "#          [1.],\n",
        "#          [1.],\n",
        "#          [0.],\n",
        "#          [1.],\n",
        "#          [1.],\n",
        "#          [0.],\n",
        "#          [1.],\n",
        "#          [1.]],\n",
        "\n",
        "#         [[0.],\n",
        "#          [0.],\n",
        "#          [0.],\n",
        "#          [0.],\n",
        "#          [0.],\n",
        "#          [0.],\n",
        "#          [0.],\n",
        "#          [0.],\n",
        "#          [0.],\n",
        "#          [0.]]])"
      ],
      "execution_count": 0,
      "outputs": []
    },
    {
      "cell_type": "code",
      "metadata": {
        "id": "6P7Nk392OadJ",
        "colab_type": "code",
        "colab": {}
      },
      "source": [
        "# g_t.shape"
      ],
      "execution_count": 0,
      "outputs": []
    },
    {
      "cell_type": "code",
      "metadata": {
        "id": "-ZJV3lIVOadL",
        "colab_type": "code",
        "colab": {}
      },
      "source": [
        "# g_t_sum = g_t.sum(1)"
      ],
      "execution_count": 0,
      "outputs": []
    },
    {
      "cell_type": "code",
      "metadata": {
        "id": "WFH8hDBSOadN",
        "colab_type": "code",
        "colab": {}
      },
      "source": [
        "# g_t_sum"
      ],
      "execution_count": 0,
      "outputs": []
    },
    {
      "cell_type": "code",
      "metadata": {
        "id": "Y4idx3hPOadP",
        "colab_type": "code",
        "colab": {}
      },
      "source": [
        "# x = (g_t_sum == 0).nonzero()"
      ],
      "execution_count": 0,
      "outputs": []
    },
    {
      "cell_type": "code",
      "metadata": {
        "id": "NKf966QYOadR",
        "colab_type": "code",
        "colab": {}
      },
      "source": [
        "# x = x[:,0]"
      ],
      "execution_count": 0,
      "outputs": []
    },
    {
      "cell_type": "code",
      "metadata": {
        "id": "p5nkdOOFOadS",
        "colab_type": "code",
        "colab": {}
      },
      "source": [
        "# x"
      ],
      "execution_count": 0,
      "outputs": []
    },
    {
      "cell_type": "code",
      "metadata": {
        "id": "7FUWpAljOadU",
        "colab_type": "code",
        "colab": {}
      },
      "source": [
        "# for i in x:\n",
        "#     print(\"Old g\", g_t[i,:,:])\n",
        "#     new_g = torch.ones(g_t[i,:,:].shape)\n",
        "#     g_t[i,:,:] = new_g\n",
        "#     print(\"New g\", g_t[i,:,:])"
      ],
      "execution_count": 0,
      "outputs": []
    },
    {
      "cell_type": "code",
      "metadata": {
        "id": "wPFl6aagOadW",
        "colab_type": "code",
        "colab": {}
      },
      "source": [
        ""
      ],
      "execution_count": 0,
      "outputs": []
    },
    {
      "cell_type": "code",
      "metadata": {
        "id": "Au8PaaokOadY",
        "colab_type": "code",
        "colab": {}
      },
      "source": [
        ""
      ],
      "execution_count": 0,
      "outputs": []
    },
    {
      "cell_type": "code",
      "metadata": {
        "id": "PEFEl5M3OadZ",
        "colab_type": "code",
        "outputId": "493a61c4-9ee4-4bb5-e921-2943554642be",
        "colab": {
          "base_uri": "https://localhost:8080/",
          "height": 151
        }
      },
      "source": [
        "logits = torch.rand(3, 2, 1)\n",
        "print(logits)"
      ],
      "execution_count": 35,
      "outputs": [
        {
          "output_type": "stream",
          "text": [
            "tensor([[[0.7669],\n",
            "         [0.0441]],\n",
            "\n",
            "        [[0.4030],\n",
            "         [0.8371]],\n",
            "\n",
            "        [[0.2873],\n",
            "         [0.9665]]])\n"
          ],
          "name": "stdout"
        }
      ]
    },
    {
      "cell_type": "code",
      "metadata": {
        "id": "UzsBYHkdOadb",
        "colab_type": "code",
        "outputId": "80c9ef70-2d56-4d6f-a91c-4e56f8ae2f2d",
        "colab": {
          "base_uri": "https://localhost:8080/",
          "height": 151
        }
      },
      "source": [
        "logits = logits.repeat(1,1,2)\n",
        "logits[:,:,0] = 1 - logits[:,:,0] \n",
        "print(logits)"
      ],
      "execution_count": 36,
      "outputs": [
        {
          "output_type": "stream",
          "text": [
            "tensor([[[0.2331, 0.7669],\n",
            "         [0.9559, 0.0441]],\n",
            "\n",
            "        [[0.5970, 0.4030],\n",
            "         [0.1629, 0.8371]],\n",
            "\n",
            "        [[0.7127, 0.2873],\n",
            "         [0.0335, 0.9665]]])\n"
          ],
          "name": "stdout"
        }
      ]
    },
    {
      "cell_type": "code",
      "metadata": {
        "id": "ggom64wlOadg",
        "colab_type": "code",
        "outputId": "6f9d7e4b-b1ed-462e-c6e4-ffd6c7f350c4",
        "colab": {
          "base_uri": "https://localhost:8080/",
          "height": 151
        }
      },
      "source": [
        "# Sample soft categorical using reparametrization trick:\n",
        "F.gumbel_softmax(logits, tau=1, hard=False)"
      ],
      "execution_count": 37,
      "outputs": [
        {
          "output_type": "execute_result",
          "data": {
            "text/plain": [
              "tensor([[[0.4426, 0.5574],\n",
              "         [0.3521, 0.6479]],\n",
              "\n",
              "        [[0.5117, 0.4883],\n",
              "         [0.7114, 0.2886]],\n",
              "\n",
              "        [[0.1633, 0.8367],\n",
              "         [0.2770, 0.7230]]])"
            ]
          },
          "metadata": {
            "tags": []
          },
          "execution_count": 37
        }
      ]
    },
    {
      "cell_type": "code",
      "metadata": {
        "id": "0yq4dGW_Oadi",
        "colab_type": "code",
        "outputId": "c133cc47-7b68-46ef-b43e-8d5db4cc185f",
        "colab": {
          "base_uri": "https://localhost:8080/",
          "height": 151
        }
      },
      "source": [
        "# Sample soft categorical using reparametrization trick:\n",
        "F.gumbel_softmax(logits, tau=1, hard=False)"
      ],
      "execution_count": 38,
      "outputs": [
        {
          "output_type": "execute_result",
          "data": {
            "text/plain": [
              "tensor([[[0.8818, 0.1182],\n",
              "         [0.6876, 0.3124]],\n",
              "\n",
              "        [[0.8448, 0.1552],\n",
              "         [0.0220, 0.9780]],\n",
              "\n",
              "        [[0.1111, 0.8889],\n",
              "         [0.3510, 0.6490]]])"
            ]
          },
          "metadata": {
            "tags": []
          },
          "execution_count": 38
        }
      ]
    },
    {
      "cell_type": "code",
      "metadata": {
        "scrolled": true,
        "id": "c3k2l8UjOadk",
        "colab_type": "code",
        "outputId": "5672bce6-e443-4e82-9268-1080a45d2d4b",
        "colab": {
          "base_uri": "https://localhost:8080/",
          "height": 151
        }
      },
      "source": [
        "# Sample hard categorical using \"Straight-through\" trick:\n",
        "F.gumbel_softmax(logits, tau=1, hard=True)"
      ],
      "execution_count": 39,
      "outputs": [
        {
          "output_type": "execute_result",
          "data": {
            "text/plain": [
              "tensor([[[1., 0.],\n",
              "         [1., 0.]],\n",
              "\n",
              "        [[1., 0.],\n",
              "         [1., 0.]],\n",
              "\n",
              "        [[1., 0.],\n",
              "         [0., 1.]]])"
            ]
          },
          "metadata": {
            "tags": []
          },
          "execution_count": 39
        }
      ]
    },
    {
      "cell_type": "code",
      "metadata": {
        "id": "yVXSeUFzOadm",
        "colab_type": "code",
        "outputId": "f7c35157-0333-4874-c0dc-a2c2103e3a5f",
        "colab": {
          "base_uri": "https://localhost:8080/",
          "height": 151
        }
      },
      "source": [
        "# Sample hard categorical using \"Straight-through\" trick:\n",
        "F.gumbel_softmax(logits, tau=1, hard=True)"
      ],
      "execution_count": 40,
      "outputs": [
        {
          "output_type": "execute_result",
          "data": {
            "text/plain": [
              "tensor([[[0., 1.],\n",
              "         [1., 0.]],\n",
              "\n",
              "        [[1., 0.],\n",
              "         [0., 1.]],\n",
              "\n",
              "        [[1., 0.],\n",
              "         [0., 1.]]])"
            ]
          },
          "metadata": {
            "tags": []
          },
          "execution_count": 40
        }
      ]
    }
  ]
}
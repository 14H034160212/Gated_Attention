{
 "cells": [
  {
   "cell_type": "code",
   "execution_count": 1,
   "metadata": {
    "colab": {
     "base_uri": "https://localhost:8080/",
     "height": 185
    },
    "colab_type": "code",
    "id": "D0T3nxESJstz",
    "outputId": "7341ce37-5134-467c-9d54-16650d84097e",
    "scrolled": true
   },
   "outputs": [],
   "source": [
    "# !pip3 install torchtext==0.4"
   ]
  },
  {
   "cell_type": "code",
   "execution_count": 2,
   "metadata": {
    "colab": {},
    "colab_type": "code",
    "id": "a9sHZi8rIXBC"
   },
   "outputs": [],
   "source": [
    "import math\n",
    "import numpy as np\n",
    "import pandas as pd\n",
    "import pdb\n",
    "\n",
    "import torch\n",
    "import torch.nn.functional as F\n",
    "import torch.distributions\n",
    "import torch.optim as optim\n",
    "from torch import nn \n",
    "from torch.autograd import Variable\n",
    "\n",
    "import torchtext\n",
    "from torchtext import data\n",
    "from torchtext import datasets\n",
    "from torchtext.vocab import Vectors, GloVe\n",
    "\n",
    "# from models.LSTM import LSTMClassifier"
   ]
  },
  {
   "cell_type": "code",
   "execution_count": 3,
   "metadata": {
    "colab": {},
    "colab_type": "code",
    "id": "6CtSKjSRaQdd"
   },
   "outputs": [],
   "source": [
    "# model.py\n",
    "\n",
    "class GANet(torch.nn.Module):\n",
    "    def __init__(self, batch_size, num_classes, mlp_out_size, vocab_size, embedding_length, weights, aux_hidden_size = 100, backbone_hidden_size = 100, tau = 1, biDirectional_aux = False, biDirectional_backbone = False):\n",
    "        super(GANet, self).__init__() \n",
    "        \"\"\"\n",
    "        Arguments\n",
    "        ---------\n",
    "        batch_size : Size of the batch which is same as the batch_size of the data returned by the TorchText BucketIterator\n",
    "        output_size : 6 = (For TREC dataset)\n",
    "        hidden_sie : Size of the hidden_state of the LSTM   (// Later BiLSTM)\n",
    "        vocab_size : Size of the vocabulary containing unique words\n",
    "        embedding_length : Embeddding dimension of GloVe word embeddings\n",
    "        weights : Pre-trained GloVe word_embeddings which we will use to create our word_embedding look-up table \n",
    "\n",
    "        --------\n",
    "\n",
    "        \"\"\"\n",
    "\n",
    "        self.batch_size = batch_size\n",
    "        self.num_classes = num_classes\n",
    "        self.vocab_size = vocab_size\n",
    "        self.embedding_length = embedding_length\n",
    "        self.aux_hidden_size = aux_hidden_size\n",
    "        self.backbone_hidden_size = backbone_hidden_size \n",
    "        self.mlp_out_size = mlp_out_size\n",
    "        self.biDirectional_aux = biDirectional_aux\n",
    "        self.biDirectional_backbone = biDirectional_backbone\n",
    "        self.tau = tau\n",
    "\n",
    "        self.word_embeddings = nn.Embedding(vocab_size, embedding_length)\n",
    "        self.word_embeddings.weights = nn.Parameter(weights, requires_grad=False)\n",
    "\n",
    "        self.auxiliary = AuxiliaryNet(self.batch_size, self.aux_hidden_size, self.embedding_length, self.biDirectional_aux, tau = self.tau)\n",
    "        self.backbone = BackboneNet(self.batch_size, self.backbone_hidden_size, self.embedding_length, self.biDirectional_backbone)\n",
    "\n",
    "        if(self.biDirectional_backbone):\n",
    "            self.mlp = MLP(self.backbone_hidden_size * 2, self.mlp_out_size)\n",
    "            self.FF = nn.Linear(self.backbone_hidden_size * 2,num_classes)\n",
    "        else:\n",
    "            self.mlp = MLP(self.backbone_hidden_size, self.mlp_out_size)\n",
    "            self.FF = nn.Linear(self.backbone_hidden_size,num_classes)\n",
    "\n",
    "\n",
    "    def masked_Softmax(self, logits, mask):\n",
    "        mask_bool = mask>0\n",
    "        logits[~mask_bool] = float('-inf')\n",
    "        return torch.softmax(logits, dim=1)\n",
    "\n",
    "    \n",
    "    def forward(self,input_sequence, is_train = True):\n",
    "        input_ = self.word_embeddings(input_sequence)\n",
    "        g_t, p_t = self.auxiliary(input_, is_train)\n",
    "        out_lstm = self.backbone(input_)\n",
    "\n",
    "        if is_train:\n",
    "            e_t = self.mlp(out_lstm)\n",
    "#             alpha = torch.softmax(e_t*g_t, dim = 1)\n",
    "#             pdb.set_trace()\n",
    "            alpha_numerator = torch.exp(e_t)*g_t\n",
    "            alpha_denomenator = torch.sum(alpha_numerator, dim=1).repeat(e_t.shape[1],1,1).transpose(0,1)\n",
    "            alpha = alpha_numerator/alpha_denomenator\n",
    "        else:\n",
    "            e_t = self.mlp(out_lstm)               # change if possible!\n",
    "            alpha = self.masked_Softmax(e_t, g_t)\n",
    "            \n",
    "        c_t = torch.bmm(alpha.transpose(1,2), out_lstm)\n",
    "        logits = self.FF(c_t)\n",
    "        final_output = torch.softmax(logits, dim = -1)\n",
    "        # final_output = final_output.max(2)[1]\n",
    "        final_output = final_output.squeeze(1)\n",
    "\n",
    "        return final_output, g_t, alpha, p_t"
   ]
  },
  {
   "cell_type": "code",
   "execution_count": 4,
   "metadata": {
    "colab": {},
    "colab_type": "code",
    "id": "Pdl-jRmHb5KA"
   },
   "outputs": [],
   "source": [
    "class AuxiliaryNet(torch.nn.Module):\n",
    "    \"\"\"\n",
    "    Arguments\n",
    "    ---------\n",
    "    batch_size : Size of the batch which is same as the batch_size of the data returned by the TorchText BucketIterator\n",
    "    aux_hidden_size : Size of the hidden_state of the LSTM   (* Later BiLSTM, check dims for BiLSTM *)\n",
    "    embedding_length : Embeddding dimension of GloVe word embeddings\n",
    "    --------\n",
    "    \"\"\"\n",
    "    def __init__(self, batch_size, auxiliary_hidden_size, embedding_length, biDirectional = False, num_layers = 1, tau=1):\n",
    "        super(AuxiliaryNet, self).__init__()\n",
    "        self.batch_size = batch_size\n",
    "        self.hidden_size = auxiliary_hidden_size\n",
    "        self.embedding_length = embedding_length\n",
    "        self.biDirectional = biDirectional\n",
    "        self.num_layers = num_layers\n",
    "\n",
    "        self.aux_lstm = nn.LSTM(self.embedding_length, self.hidden_size, bidirectional = self.biDirectional, num_layers = self.num_layers, batch_first = True)   # Dropout  \n",
    "        if(self.biDirectional):\n",
    "            self.aux_linear = nn.Linear(self.hidden_size * 2,1)\n",
    "        else:\n",
    "            self.aux_linear = nn.Linear(self.hidden_size,1)\n",
    "        self.sigmoid = torch.nn.Sigmoid()\n",
    "        self.tau = tau\n",
    "\n",
    "\n",
    "    def forward(self, input_sequence, is_train = True, batch_size=None):\n",
    "\n",
    "        # input : Dimensions (batch_size x seq_len x embedding_length)\n",
    "        out_lstm, (final_hidden_state, final_cell_state) = self.aux_lstm(input_sequence) # ouput dim: (batch_size x seq_len x hidden_size) \n",
    "        out_linear = self.aux_linear(out_lstm)                                           # p_t dim: (batch_size x seq_len x 1)\n",
    "        p_t = self.sigmoid(out_linear)\n",
    "\n",
    "        if is_train:\n",
    "            p_t = p_t.repeat(1,1,2)\n",
    "            p_t[:,:,0] = 1 - p_t[:,:,0] \n",
    "            g_hat = F.gumbel_softmax(p_t, self.tau, hard=False)   \n",
    "#             print(\"p_t: \", p_t)\n",
    "            g_t = g_hat[:,:,1]\n",
    "            g_t = g_t.reshape(g_t.shape[0], g_t.shape[1], 1)\n",
    "#             print(\"g_t Gumbel: \", g_t)\n",
    "        else:\n",
    "            # size : same as p_t [ batch_size x seq_len x 1]\n",
    "#             print(\"Underlying probability distribution: \", p_t)\n",
    "            m = torch.distributions.bernoulli.Bernoulli(p_t)   \n",
    "            g_t = m.sample()\n",
    "            \n",
    "            # We do not want all the values of g_t for a sample to be 0\n",
    "            # Make all g_t's 1 when all are zero\n",
    "            gt_sum = g_t.sum(1)\n",
    "            x = (gt_sum == 0).nonzero()\n",
    "            x = x[:,0]\n",
    "            for i in x:\n",
    "                g_t[i,:,:] = torch.ones(g_t[i,:,:].shape)\n",
    "#             print(\"All zero: \", len(x))\n",
    "        return g_t, p_t"
   ]
  },
  {
   "cell_type": "code",
   "execution_count": 5,
   "metadata": {
    "colab": {},
    "colab_type": "code",
    "id": "YT9xWP_MAVmq"
   },
   "outputs": [],
   "source": [
    "class BackboneNet(torch.nn.Module):\n",
    "    \"\"\"\n",
    "        Arguments\n",
    "        ---------\n",
    "        batch_size : Size of the batch which is same as the batch_size of the data returned by the TorchText BucketIterator\n",
    "        backbone_hidden_size : Size of the hidden_state of the LSTM   (* Later BiLSTM, check dims for BiLSTM *)\n",
    "        embedding_length : Embeddding dimension of GloVe word embeddings\n",
    "        --------\n",
    "    \"\"\"\n",
    "    def __init__(self, batch_size, backbone_hidden_size, embedding_length, biDirectional = False, num_layers = 2):\n",
    "\n",
    "        super(BackboneNet, self).__init__()\n",
    "        self.batch_size = batch_size\n",
    "        self.hidden_size = backbone_hidden_size\n",
    "        self.embedding_length = embedding_length\n",
    "        self.biDirectional\t= biDirectional\n",
    "        self.num_layers = num_layers\n",
    "\n",
    "        self.backbone_lstm = nn.LSTM(self.embedding_length, self.hidden_size, bidirectional = self.biDirectional, batch_first = True, num_layers = self.num_layers)   # Dropout  \n",
    "\n",
    "    def forward(self, input_sequence, batch_size=None):\n",
    "        out_lstm, (final_hidden_state, final_cell_state) = self.backbone_lstm(input_sequence)   # ouput dim: ( batch_size x seq_len x hidden_size )\n",
    "        return out_lstm\n"
   ]
  },
  {
   "cell_type": "code",
   "execution_count": 6,
   "metadata": {
    "colab": {},
    "colab_type": "code",
    "id": "x_eU0HR-j8lW"
   },
   "outputs": [],
   "source": [
    "class MLP(torch.nn.Module):\n",
    "    def __init__(self, input_dim, output_dim):\n",
    "        super(MLP, self).__init__()\n",
    "\n",
    "        self.input_dim = input_dim\n",
    "        self.output_dim = output_dim\n",
    "\n",
    "        self.ff_1 = nn.Linear(self.input_dim, self.output_dim)\n",
    "        self.relu = nn.ReLU()\n",
    "        self.ff_2 = nn.Linear(self.output_dim,1)\n",
    "        self.sigmoid = nn.Sigmoid()\n",
    "\n",
    "    def forward(self,x):\n",
    "        out_1 = self.ff_1(x)\n",
    "        out_relu = self.relu(out_1)\n",
    "        out_2 = self.ff_2(out_relu)\n",
    "        out_sigmoid = self.sigmoid(out_2)\n",
    "\n",
    "        return out_sigmoid "
   ]
  },
  {
   "cell_type": "code",
   "execution_count": 7,
   "metadata": {
    "colab": {},
    "colab_type": "code",
    "id": "Swz_WT2mS3zq"
   },
   "outputs": [],
   "source": [
    "def clip_gradient(model, clip_value):\n",
    "    params = list(filter(lambda p: p.grad is not None, model.parameters()))\n",
    "    for p in params:\n",
    "        p.grad.data.clamp_(-clip_value, clip_value)\n",
    "    \n",
    "def train_model(model, optim, train_iter, epoch, batch_size):\n",
    "    total_epoch_loss = 0\n",
    "    total_epoch_acc = 0\n",
    "    # model.cuda()\n",
    "#     optim = torch.optim.Adam(filter(lambda p: p.requires_grad, model.parameters()))\n",
    "    steps = 0\n",
    "    model.train()\n",
    "    for idx, batch in enumerate(train_iter):\n",
    "        text = batch.text[0]\n",
    "        target = batch.label\n",
    "        target = torch.autograd.Variable(target).long()\n",
    "        if torch.cuda.is_available():\n",
    "            text = text.cuda()\n",
    "            target = target.cuda()\n",
    "        if (text.size()[0] is not batch_size):# One of the batch returned by BucketIterator has length different than 32.\n",
    "            continue\n",
    "        optim.zero_grad()\n",
    "        prediction, g_t, alpha, p_t = model(text, is_train = True)\n",
    "        # print(\"prediction = \", prediction.shape)\n",
    "        # print(\"target = \", target.shape)\n",
    "        # print(\"prediction = \", prediction)\n",
    "        # print(\"target = \", target)\n",
    "        \n",
    "        # Modifies loss function\n",
    "        loss = loss_fn(prediction, target, g_t)\n",
    "\n",
    "        # Defualt - Cross entropy loss funtion\n",
    "#         loss = loss_fn(prediction, target)\n",
    "        \n",
    "        # print(\"loss = \", loss)\n",
    "        \n",
    "        num_corrects = (torch.max(prediction, 1)[1].view(target.size()).data == target.data).float().sum()\n",
    "        acc = 100.0 * num_corrects/len(batch)\n",
    "        loss.backward()\n",
    "        clip_gradient(model, 1e-1)\n",
    "        optim.step()\n",
    "        steps += 1\n",
    "        \n",
    "        # if steps % 10 == 0:\n",
    "            # print (f'Epoch: {epoch+1}, Idx: {idx+1}, Training Loss: {loss.item():.4f}, Training Accuracy: {acc.item(): .2f}%')\n",
    "            # break\n",
    "        \n",
    "        total_epoch_loss += loss.item()\n",
    "        total_epoch_acc += acc.item()\n",
    "\n",
    "        \n",
    "    return total_epoch_loss/len(train_iter), total_epoch_acc/len(train_iter)\n",
    "\n",
    "def eval_model(model, val_iter):\n",
    "    total_epoch_loss = 0\n",
    "    total_epoch_acc = 0\n",
    "    total_attention =  0\n",
    "    total_samples = 0 \n",
    "    model.eval()\n",
    "    with torch.no_grad():\n",
    "        for idx, batch in enumerate(val_iter):\n",
    "            text = batch.text[0]\n",
    "            if (text.size()[0] is not 32):\n",
    "                continue\n",
    "            target = batch.label\n",
    "            target = torch.autograd.Variable(target).long()\n",
    "            if torch.cuda.is_available():\n",
    "                text = text.cuda()\n",
    "                target = target.cuda()\n",
    "            prediction, g_t, alpha, p_t = model(text, is_train = False)\n",
    "            # Sanity check\n",
    "            # print(\"Test Prediction: \", prediction)\n",
    "            # print(\"Gate values: \", g_t)\n",
    "\n",
    "            # For density calculation\n",
    "            total_attention += torch.sum(g_t)\n",
    "            # print(total_attention)\n",
    "            # print(g_t.shape)\n",
    "            total_samples += g_t.shape[0] * g_t.shape[1]\n",
    "            \n",
    "            # Modifies loss function\n",
    "            loss = loss_fn(prediction, target, g_t)\n",
    "\n",
    "            # Defualt - Cross entropy loss funtion\n",
    "#             loss =  loss_fn(prediction, target)\n",
    "            \n",
    "            if math.isnan(loss.item()):\n",
    "                print(prediction, target)\n",
    "            \n",
    "            num_corrects = (torch.max(prediction, 1)[1].view(target.size()).data == target.data).sum()\n",
    "            acc = 100.0 * num_corrects/len(batch)\n",
    "            total_epoch_loss += loss.item()\n",
    "            total_epoch_acc += acc.item()\n",
    "            \n",
    "    return total_epoch_loss/len(val_iter), total_epoch_acc/len(val_iter), total_attention/total_samples "
   ]
  },
  {
   "cell_type": "code",
   "execution_count": 8,
   "metadata": {
    "colab": {},
    "colab_type": "code",
    "id": "vAjlrmkGSEQQ"
   },
   "outputs": [],
   "source": [
    "# data.py\n",
    "def load_IMDB_data(batch_size= 32, embedding_length = 100):\n",
    "    # set up fields\n",
    "    tokenize = lambda x: x.split()\n",
    "    TEXT = data.Field(sequential=True, tokenize=tokenize, lower=True, include_lengths=True, batch_first=True, fix_length=100)\n",
    "    # LABEL = data.LabelField()\n",
    "    LABEL = data.LabelField(dtype=torch.float)\n",
    "\n",
    "    # make splits for data\n",
    "    train, test = datasets.IMDB.splits(TEXT, LABEL)\n",
    "    train, valid = train.split() \n",
    "    \n",
    "    # build the vocabulary\n",
    "    TEXT.build_vocab(train, vectors=GloVe(name='6B', dim=embedding_length))\n",
    "    LABEL.build_vocab(train)\n",
    "    print(LABEL.vocab.__dict__)\n",
    "\n",
    "    # make iterator for splits\n",
    "    train_iter, valid_iter, test_iter = data.BucketIterator.splits(\n",
    "      (train, valid, test), batch_size= batch_size, device=0)\n",
    "\n",
    "    word_embeddings = TEXT.vocab.vectors\n",
    "    vocab_size = len(TEXT.vocab)\n",
    "\n",
    "    return TEXT, vocab_size, word_embeddings, train_iter, valid_iter, test_iter"
   ]
  },
  {
   "cell_type": "code",
   "execution_count": 9,
   "metadata": {
    "colab": {
     "base_uri": "https://localhost:8080/",
     "height": 86
    },
    "colab_type": "code",
    "id": "xHuvlEncW_tw",
    "outputId": "ea08c54e-f4c1-4785-cf86-c072a8dd620f"
   },
   "outputs": [
    {
     "name": "stderr",
     "output_type": "stream",
     "text": [
      "The `device` argument should be set by using `torch.device` or passing a string as an argument. This behavior will be deprecated soon and currently defaults to cpu.\n",
      "The `device` argument should be set by using `torch.device` or passing a string as an argument. This behavior will be deprecated soon and currently defaults to cpu.\n",
      "The `device` argument should be set by using `torch.device` or passing a string as an argument. This behavior will be deprecated soon and currently defaults to cpu.\n"
     ]
    },
    {
     "name": "stdout",
     "output_type": "stream",
     "text": [
      "{'freqs': Counter({'pos': 8772, 'neg': 8728}), 'itos': ['pos', 'neg'], 'unk_index': None, 'stoi': defaultdict(None, {'pos': 0, 'neg': 1}), 'vectors': None}\n"
     ]
    }
   ],
   "source": [
    "# main.py\n",
    "TEXT, vocab_size, word_embeddings, train_iter, valid_iter, test_iter = load_IMDB_data()"
   ]
  },
  {
   "cell_type": "code",
   "execution_count": 10,
   "metadata": {
    "colab": {},
    "colab_type": "code",
    "id": "dkoJVXJ2mzCD"
   },
   "outputs": [],
   "source": [
    "def loss_fn(output, target, g_t, lambda_ = 1e-4):\n",
    "#     T = g_t.shape[0]*g_t.shape[1]\n",
    "    T = len(g_t)\n",
    "    # loss = -nn.LogSoftmax(output[target], dim = 1) + (lambda_ * torch.sum(g_t))/T\n",
    "    loss = F.cross_entropy(output, target) + (lambda_ * torch.sum(g_t))/T\n",
    "    return loss"
   ]
  },
  {
   "cell_type": "code",
   "execution_count": 11,
   "metadata": {
    "colab": {},
    "colab_type": "code",
    "id": "PImJSOJmzQgT"
   },
   "outputs": [],
   "source": [
    "# Over-writing the loss function to simple cross entropy loss\n",
    "# loss_fn = F.cross_entropy\n",
    "\n",
    "learning_rate = 2e-5\n",
    "batch_size = 32\n",
    "output_size = 2\n",
    "hidden_size = 256\n",
    "embedding_length = 100\n",
    "num_classes = 2\n",
    "mlp_out_size = 32\n",
    "weights = word_embeddings\n",
    "aux_hidden_size = 100\n",
    "batch_hidden_size = 100\n",
    "tau = 1\n",
    "\n",
    "model = GANet(batch_size, num_classes, mlp_out_size, vocab_size, embedding_length, weights, tau= tau, biDirectional_aux=False, biDirectional_backbone=False)\n",
    "optim = torch.optim.Adam(filter(lambda p: p.requires_grad, model.parameters()))"
   ]
  },
  {
   "cell_type": "code",
   "execution_count": 12,
   "metadata": {
    "colab": {
     "base_uri": "https://localhost:8080/",
     "height": 830
    },
    "colab_type": "code",
    "id": "EcU6SSW8bDln",
    "outputId": "49069342-b9dd-4d4c-d2f3-6509dd836057"
   },
   "outputs": [
    {
     "name": "stdout",
     "output_type": "stream",
     "text": [
      "Epoch: 01\n",
      "*** Least validation loss\n",
      "Train Loss: 0.606, Train Acc: 67.53%\n",
      "Val Loss: 0.589274, Val Acc: 70.44%, Val Density: 0.3734\n",
      "-------------\n",
      "Epoch: 02\n",
      "*** Least validation loss\n",
      "Train Loss: 0.490, Train Acc: 81.60%\n",
      "Val Loss: 0.569497, Val Acc: 72.41%, Val Density: 0.2714\n",
      "-------------\n"
     ]
    }
   ],
   "source": [
    "num_bad_epochs = 0\n",
    "epoch = 0\n",
    "least_loss = float('inf')\n",
    "training_stats = pd.DataFrame(columns=['Epoch', 'Train_Loss', 'Train_Acc', 'Val_Loss', 'Val_Acc', 'Val_Density'])\n",
    "\n",
    "while(True):\n",
    "    train_loss, train_acc = train_model(model, optim, train_iter, epoch, batch_size)\n",
    "    val_loss, val_acc, val_density = eval_model(model, valid_iter) \n",
    "    print(f'Epoch: {epoch+1:02}')\n",
    "    if val_loss < least_loss:\n",
    "        least_loss = val_loss\n",
    "        num_bad_epochs = 0\n",
    "        print(\"*** Least validation loss\")\n",
    "        torch.save(model.state_dict(), \"IMDB_LSTM+LSTM_100\")\n",
    "    else:\n",
    "        num_bad_epochs += 1\n",
    "#     print(f'Epoch: {epoch+1:2}, Train Loss: {train_loss:.3f}, Train Acc: {train_acc:.2f}%')\n",
    "    print(f'Train Loss: {train_loss:.3f}, Train Acc: {train_acc:.2f}%') \n",
    "    print(f'Val Loss: {val_loss:3f}, Val Acc: {val_acc:.2f}%, Val Density: {val_density:.4f}')\n",
    "    print(\"-------------\")\n",
    "    \n",
    "    training_stats = training_stats.append(\n",
    "        pd.Series([epoch+1, train_loss, train_acc, val_loss, val_acc, val_density], index=training_stats.columns), \n",
    "        ignore_index=True)\n",
    "#     if num_bad_epochs >= 10:\n",
    "#         break\n",
    "        \n",
    "    epoch += 1\n",
    "    if epoch == 100:\n",
    "        break"
   ]
  },
  {
   "cell_type": "code",
   "execution_count": 13,
   "metadata": {
    "scrolled": true
   },
   "outputs": [],
   "source": [
    "training_stats.to_csv(\"IMDB_LSTM+LSTM_100.csv\")"
   ]
  },
  {
   "cell_type": "code",
   "execution_count": 14,
   "metadata": {},
   "outputs": [],
   "source": [
    "# # Print model's state_dict\n",
    "# print(\"Model's state_dict:\")\n",
    "# for param_tensor in model.state_dict():\n",
    "#     print(param_tensor, \"\\t\", model.state_dict()[param_tensor].size())\n",
    "\n",
    "# # Print optimizer's state_dict\n",
    "# print(\"Optimizer's state_dict:\")\n",
    "# for var_name in optim.state_dict():\n",
    "#     print(var_name, \"\\t\", optim.state_dict()[var_name])"
   ]
  },
  {
   "cell_type": "code",
   "execution_count": 15,
   "metadata": {},
   "outputs": [
    {
     "data": {
      "text/plain": [
       "GANet(\n",
       "  (word_embeddings): Embedding(201739, 100)\n",
       "  (auxiliary): AuxiliaryNet(\n",
       "    (aux_lstm): LSTM(100, 100, batch_first=True, bidirectional=True)\n",
       "    (aux_linear): Linear(in_features=200, out_features=1, bias=True)\n",
       "    (sigmoid): Sigmoid()\n",
       "  )\n",
       "  (backbone): BackboneNet(\n",
       "    (backbone_lstm): LSTM(100, 100, num_layers=2, batch_first=True, bidirectional=True)\n",
       "  )\n",
       "  (mlp): MLP(\n",
       "    (ff_1): Linear(in_features=200, out_features=32, bias=True)\n",
       "    (relu): ReLU()\n",
       "    (ff_2): Linear(in_features=32, out_features=1, bias=True)\n",
       "    (sigmoid): Sigmoid()\n",
       "  )\n",
       "  (FF): Linear(in_features=200, out_features=2, bias=True)\n",
       ")"
      ]
     },
     "execution_count": 15,
     "metadata": {},
     "output_type": "execute_result"
    }
   ],
   "source": [
    "loaded_model = GANet(batch_size, num_classes, mlp_out_size, vocab_size, embedding_length, weights, tau= tau, biDirectional_aux=False, biDirectional_backbone=False)\n",
    "loaded_model.load_state_dict(torch.load('IMDB_LSTM+LSTM_100'))\n",
    "loaded_model.eval()"
   ]
  },
  {
   "cell_type": "code",
   "execution_count": 16,
   "metadata": {
    "colab": {
     "base_uri": "https://localhost:8080/",
     "height": 33
    },
    "colab_type": "code",
    "id": "vwMLkn7s7cnC",
    "outputId": "86182669-19b9-4b8d-b9a4-815acf8d240e",
    "scrolled": true
   },
   "outputs": [
    {
     "name": "stdout",
     "output_type": "stream",
     "text": [
      "Test Loss: 0.581, Test Acc: 71.75, Density: 0.2617 \n"
     ]
    }
   ],
   "source": [
    "test_loss, test_acc, density = eval_model(loaded_model, test_iter)\n",
    "print(f'Test Loss: {test_loss:.3f}, Test Acc: {test_acc:.2f}, Density: {density:.4f} ')"
   ]
  },
  {
   "cell_type": "code",
   "execution_count": 34,
   "metadata": {
    "colab": {},
    "colab_type": "code",
    "id": "kj2OOxjKaAIm"
   },
   "outputs": [
    {
     "name": "stdout",
     "output_type": "stream",
     "text": [
      "------------\n",
      "['this', 'is', 'one', 'of', 'the', 'best', 'creation', 'of', 'nolan.', 'i', 'can', 'say,', \"it's\", 'his', 'magnum', 'opus.', 'loved', 'the', 'soundtrack', 'and', 'especially', 'those', 'creative', 'dialogues.']\n",
      "prediction = tensor([[1.0000e+00, 5.9342e-10]], grad_fn=<SqueezeBackward1>)\n",
      "this 0 0.9378951191902161 0.0\n",
      "is 1 0.9947400689125061 0.04351923242211342\n",
      "one 1 0.9948108196258545 0.04351923242211342\n",
      "of 1 0.9973734617233276 0.04351923242211342\n",
      "the 1 0.9971464276313782 0.04351923242211342\n",
      "best 1 0.9984948635101318 0.04351923242211342\n",
      "creation 1 0.9990401864051819 0.04351923242211342\n",
      "of 1 0.9986294507980347 0.04351923242211342\n",
      "nolan. 1 0.9942398071289062 0.04351923242211342\n",
      "i 1 0.9977445602416992 0.04351923242211342\n",
      "can 1 0.9989503026008606 0.04351923242211342\n",
      "say, 1 0.9984232187271118 0.04351923242211342\n",
      "it's 1 0.997162401676178 0.04351923242211342\n",
      "his 1 0.9973955154418945 0.04351923242211342\n",
      "magnum 1 0.9982940554618835 0.04351923242211342\n",
      "opus. 1 0.998584508895874 0.04351923242211342\n",
      "loved 1 0.9974555373191833 0.04351923242211342\n",
      "the 1 0.9969879984855652 0.04351923242211342\n",
      "soundtrack 1 0.996566653251648 0.04351923242211342\n",
      "and 1 0.9934771656990051 0.04351923242211342\n",
      "especially 1 0.995158851146698 0.04351923242211342\n",
      "those 1 0.9906125068664551 0.04351923242211342\n",
      "creative 1 0.9856093525886536 0.043384719640016556\n",
      "dialogues. 1 0.9890308976173401 0.04271142557263374\n",
      "tensor(0)\n",
      "------------\n",
      "['ohh,', 'such', 'a', 'ridiculous', 'movie.', 'not', 'gonna', 'recommend', 'it', 'to', 'anyone.', 'complete', 'waste', 'of', 'time', 'and', 'money.']\n",
      "prediction = tensor([[4.9471e-07, 1.0000e+00]], grad_fn=<SqueezeBackward1>)\n",
      "ohh, 1 0.7329792976379395 0.06050881743431091\n",
      "such 1 0.7010247111320496 0.06136245280504227\n",
      "a 1 0.7968748211860657 0.06163923442363739\n",
      "ridiculous 1 0.8645821809768677 0.06376536935567856\n",
      "movie. 1 0.9239889979362488 0.06342554092407227\n",
      "not 1 0.9565187096595764 0.062037188559770584\n",
      "gonna 1 0.9957849383354187 0.0623415932059288\n",
      "recommend 1 0.996605396270752 0.058946654200553894\n",
      "it 1 0.9972196817398071 0.06122850254178047\n",
      "to 1 0.9993890523910522 0.060084015130996704\n",
      "anyone. 1 0.998045802116394 0.06245581805706024\n",
      "complete 1 0.999049961566925 0.06173838675022125\n",
      "waste 1 0.9992607235908508 0.06236756965517998\n",
      "of 1 0.9972010850906372 0.05227808281779289\n",
      "time 1 0.9901174902915955 0.046496521681547165\n",
      "and 1 0.9899339079856873 0.04774033650755882\n",
      "money. 1 0.9896944761276245 0.0515839159488678\n",
      "tensor(1)\n",
      "------------\n"
     ]
    },
    {
     "name": "stderr",
     "output_type": "stream",
     "text": [
      "/usr/local/lib/python3.7/site-packages/ipykernel_launcher.py:9: UserWarning: volatile was removed and now has no effect. Use `with torch.no_grad():` instead.\n",
      "  if __name__ == '__main__':\n"
     ]
    }
   ],
   "source": [
    "def test_sentence(test_sen):\n",
    "    test_sen_list = TEXT.preprocess(test_sen)\n",
    "    print(test_sen_list)\n",
    "    test_sen = [[TEXT.vocab.stoi[x] for x in test_sen_list]]\n",
    "    # print(test_sen)\n",
    "\n",
    "    test_sen = np.asarray(test_sen)\n",
    "    test_sen = torch.LongTensor(test_sen)\n",
    "    test_tensor = Variable(test_sen, volatile=True)\n",
    "\n",
    "    # print(test_tensor)\n",
    "    loaded_model.eval()\n",
    "    prediction, g_t, alpha, p_t = loaded_model(test_tensor, is_train = False)\n",
    "    print(\"prediction =\", prediction)\n",
    "#     print(\"g =\", g_t)\n",
    "    \n",
    "    for i in range(len(test_sen_list)):\n",
    "        print(test_sen_list[i], int(g_t[0][i]), float(p_t[0][i][0]), float(alpha[0][i][0]))\n",
    "    out_class = torch.argmax(prediction)\n",
    "    return out_class\n",
    "\n",
    "''' Let us now predict the sentiment on a single sentence just for the testing purpose. '''\n",
    "test_sen1 = \"This is one of the best creation of Nolan. I can say, it's his magnum opus. Loved the soundtrack and especially those creative dialogues.\"\n",
    "test_sen2 = \"Ohh, such a ridiculous movie. Not gonna recommend it to anyone. Complete waste of time and money.\"\n",
    "\n",
    "print('------------')\n",
    "x = test_sentence(test_sen1)\n",
    "print(x)\n",
    "print('------------')\n",
    "x = test_sentence(test_sen2)\n",
    "print(x)\n",
    "print('------------')"
   ]
  },
  {
   "cell_type": "code",
   "execution_count": null,
   "metadata": {
    "colab": {},
    "colab_type": "code",
    "id": "DJf5OMBaO8Wl"
   },
   "outputs": [],
   "source": []
  },
  {
   "cell_type": "code",
   "execution_count": 18,
   "metadata": {},
   "outputs": [
    {
     "data": {
      "text/html": [
       "<div>\n",
       "<style scoped>\n",
       "    .dataframe tbody tr th:only-of-type {\n",
       "        vertical-align: middle;\n",
       "    }\n",
       "\n",
       "    .dataframe tbody tr th {\n",
       "        vertical-align: top;\n",
       "    }\n",
       "\n",
       "    .dataframe thead th {\n",
       "        text-align: right;\n",
       "    }\n",
       "</style>\n",
       "<table border=\"1\" class=\"dataframe\">\n",
       "  <thead>\n",
       "    <tr style=\"text-align: right;\">\n",
       "      <th></th>\n",
       "      <th>Epoch</th>\n",
       "      <th>Train_Loss</th>\n",
       "      <th>Train_Acc</th>\n",
       "      <th>Val_Loss</th>\n",
       "      <th>Val_Acc</th>\n",
       "      <th>Val_Density</th>\n",
       "    </tr>\n",
       "  </thead>\n",
       "  <tbody>\n",
       "    <tr>\n",
       "      <th>0</th>\n",
       "      <td>1</td>\n",
       "      <td>0.606439</td>\n",
       "      <td>67.533135</td>\n",
       "      <td>0.589274</td>\n",
       "      <td>70.438830</td>\n",
       "      <td>tensor(0.3734)</td>\n",
       "    </tr>\n",
       "    <tr>\n",
       "      <th>1</th>\n",
       "      <td>2</td>\n",
       "      <td>0.490295</td>\n",
       "      <td>81.604205</td>\n",
       "      <td>0.569497</td>\n",
       "      <td>72.406915</td>\n",
       "      <td>tensor(0.2714)</td>\n",
       "    </tr>\n",
       "  </tbody>\n",
       "</table>\n",
       "</div>"
      ],
      "text/plain": [
       "  Epoch  Train_Loss  Train_Acc  Val_Loss    Val_Acc     Val_Density\n",
       "0     1    0.606439  67.533135  0.589274  70.438830  tensor(0.3734)\n",
       "1     2    0.490295  81.604205  0.569497  72.406915  tensor(0.2714)"
      ]
     },
     "execution_count": 18,
     "metadata": {},
     "output_type": "execute_result"
    }
   ],
   "source": [
    "training_stats"
   ]
  },
  {
   "cell_type": "code",
   "execution_count": 19,
   "metadata": {},
   "outputs": [
    {
     "data": {
      "image/png": "[encoded data removed]",
      "text/plain": [
       "<Figure size 432x288 with 1 Axes>"
      ]
     },
     "metadata": {
      "needs_background": "light"
     },
     "output_type": "display_data"
    }
   ],
   "source": [
    "import matplotlib.pyplot as plt\n",
    "plt.plot(training_stats['Train_Loss'], label=\"Train\")\n",
    "plt.plot(training_stats['Val_Loss'], label=\"Validation\")\n",
    "plt.legend()\n",
    "plt.show()"
   ]
  },
  {
   "cell_type": "code",
   "execution_count": 20,
   "metadata": {},
   "outputs": [
    {
     "data": {
      "image/png": "[encoded data removed]",
      "text/plain": [
       "<Figure size 432x288 with 1 Axes>"
      ]
     },
     "metadata": {
      "needs_background": "light"
     },
     "output_type": "display_data"
    }
   ],
   "source": [
    "plt.plot(training_stats['Train_Acc'], label=\"Train\")\n",
    "plt.plot(training_stats['Val_Acc'], label=\"Validation\")\n",
    "plt.legend()\n",
    "plt.show()"
   ]
  },
  {
   "cell_type": "code",
   "execution_count": null,
   "metadata": {},
   "outputs": [],
   "source": []
  },
  {
   "cell_type": "code",
   "execution_count": 21,
   "metadata": {},
   "outputs": [
    {
     "data": {
      "text/plain": [
       "tensor([[[0.3196, 0.0464, 0.4322, 0.3626],\n",
       "         [0.5285, 0.8189, 0.8507, 0.6704],\n",
       "         [0.4549, 0.1717, 0.9506, 0.4272]],\n",
       "\n",
       "        [[0.2678, 0.9349, 0.7817, 0.1599],\n",
       "         [0.5822, 0.6097, 0.1133, 0.1424],\n",
       "         [0.1226, 0.4948, 0.1211, 0.9528]]])"
      ]
     },
     "execution_count": 21,
     "metadata": {},
     "output_type": "execute_result"
    }
   ],
   "source": [
    "t = torch.rand(2,3,4)\n",
    "t"
   ]
  },
  {
   "cell_type": "code",
   "execution_count": 22,
   "metadata": {},
   "outputs": [
    {
     "data": {
      "text/plain": [
       "tensor([[[1.3766, 1.0475, 1.5407, 1.4370],\n",
       "         [1.6964, 2.2680, 2.3412, 1.9549],\n",
       "         [1.5760, 1.1874, 2.5873, 1.5330]],\n",
       "\n",
       "        [[1.3070, 2.5469, 2.1852, 1.1734],\n",
       "         [1.7900, 1.8398, 1.1199, 1.1530],\n",
       "         [1.1304, 1.6402, 1.1288, 2.5930]]])"
      ]
     },
     "execution_count": 22,
     "metadata": {},
     "output_type": "execute_result"
    }
   ],
   "source": [
    "torch.exp(t)"
   ]
  },
  {
   "cell_type": "code",
   "execution_count": 23,
   "metadata": {
    "scrolled": true
   },
   "outputs": [
    {
     "data": {
      "text/plain": [
       "tensor([[4.6490, 4.5028, 6.4692, 4.9250],\n",
       "        [4.2274, 6.0269, 4.4339, 4.9194]])"
      ]
     },
     "execution_count": 23,
     "metadata": {},
     "output_type": "execute_result"
    }
   ],
   "source": [
    "torch.sum(torch.exp(t), dim=1)"
   ]
  },
  {
   "cell_type": "code",
   "execution_count": 24,
   "metadata": {},
   "outputs": [
    {
     "data": {
      "text/plain": [
       "tensor([[[4.6490, 4.5028, 6.4692, 4.9250],\n",
       "         [4.6490, 4.5028, 6.4692, 4.9250],\n",
       "         [4.6490, 4.5028, 6.4692, 4.9250]],\n",
       "\n",
       "        [[4.2274, 6.0269, 4.4339, 4.9194],\n",
       "         [4.2274, 6.0269, 4.4339, 4.9194],\n",
       "         [4.2274, 6.0269, 4.4339, 4.9194]]])"
      ]
     },
     "execution_count": 24,
     "metadata": {},
     "output_type": "execute_result"
    }
   ],
   "source": [
    "torch.sum(torch.exp(t), dim=1).repeat(3,1,1).transpose(0,1)"
   ]
  },
  {
   "cell_type": "code",
   "execution_count": 25,
   "metadata": {},
   "outputs": [
    {
     "data": {
      "text/plain": [
       "tensor([[[0.2961, 0.2326, 0.2382, 0.2918],\n",
       "         [0.3649, 0.5037, 0.3619, 0.3969],\n",
       "         [0.3390, 0.2637, 0.3999, 0.3113]],\n",
       "\n",
       "        [[0.3092, 0.4226, 0.4928, 0.2385],\n",
       "         [0.4234, 0.3053, 0.2526, 0.2344],\n",
       "         [0.2674, 0.2721, 0.2546, 0.5271]]])"
      ]
     },
     "execution_count": 25,
     "metadata": {},
     "output_type": "execute_result"
    }
   ],
   "source": [
    "torch.exp(t)/torch.sum(torch.exp(t), dim=1).repeat(3,1,1).transpose(0,1)"
   ]
  },
  {
   "cell_type": "code",
   "execution_count": 26,
   "metadata": {},
   "outputs": [],
   "source": [
    "# g_t = torch.tensor([[[1.],\n",
    "#          [0.],\n",
    "#          [1.],\n",
    "#          [0.],\n",
    "#          [1.],\n",
    "#          [0.],\n",
    "#          [1.],\n",
    "#          [0.],\n",
    "#          [0.],\n",
    "#          [0.]],\n",
    "\n",
    "#         [[0.],\n",
    "#          [1.],\n",
    "#          [1.],\n",
    "#          [1.],\n",
    "#          [0.],\n",
    "#          [1.],\n",
    "#          [1.],\n",
    "#          [0.],\n",
    "#          [1.],\n",
    "#          [1.]],\n",
    "\n",
    "#         [[0.],\n",
    "#          [0.],\n",
    "#          [0.],\n",
    "#          [0.],\n",
    "#          [0.],\n",
    "#          [0.],\n",
    "#          [0.],\n",
    "#          [0.],\n",
    "#          [0.],\n",
    "#          [0.]]])"
   ]
  },
  {
   "cell_type": "code",
   "execution_count": 27,
   "metadata": {},
   "outputs": [],
   "source": [
    "# g_t.shape"
   ]
  },
  {
   "cell_type": "code",
   "execution_count": 28,
   "metadata": {},
   "outputs": [],
   "source": [
    "# g_t_sum = g_t.sum(1)"
   ]
  },
  {
   "cell_type": "code",
   "execution_count": 29,
   "metadata": {},
   "outputs": [],
   "source": [
    "# g_t_sum"
   ]
  },
  {
   "cell_type": "code",
   "execution_count": 30,
   "metadata": {},
   "outputs": [],
   "source": [
    "# x = (g_t_sum == 0).nonzero()"
   ]
  },
  {
   "cell_type": "code",
   "execution_count": 31,
   "metadata": {},
   "outputs": [],
   "source": [
    "# x = x[:,0]"
   ]
  },
  {
   "cell_type": "code",
   "execution_count": 32,
   "metadata": {},
   "outputs": [],
   "source": [
    "# x"
   ]
  },
  {
   "cell_type": "code",
   "execution_count": 33,
   "metadata": {},
   "outputs": [],
   "source": [
    "# for i in x:\n",
    "#     print(\"Old g\", g_t[i,:,:])\n",
    "#     new_g = torch.ones(g_t[i,:,:].shape)\n",
    "#     g_t[i,:,:] = new_g\n",
    "#     print(\"New g\", g_t[i,:,:])"
   ]
  }
 ],
 "metadata": {
  "colab": {
   "collapsed_sections": [],
   "name": "GANet_Torch.ipynb",
   "provenance": []
  },
  "kernelspec": {
   "display_name": "Python 3",
   "language": "python",
   "name": "python3"
  },
  "language_info": {
   "codemirror_mode": {
    "name": "ipython",
    "version": 3
   },
   "file_extension": ".py",
   "mimetype": "text/x-python",
   "name": "python",
   "nbconvert_exporter": "python",
   "pygments_lexer": "ipython3",
   "version": "3.7.6"
  }
 },
 "nbformat": 4,
 "nbformat_minor": 1
}
